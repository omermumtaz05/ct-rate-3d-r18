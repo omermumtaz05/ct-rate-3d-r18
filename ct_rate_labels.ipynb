{
 "cells": [
  {
   "cell_type": "code",
   "execution_count": null,
   "metadata": {},
   "outputs": [
    {
     "data": {
      "application/vnd.jupyter.widget-view+json": {
       "model_id": "1a0cdaadb51f48279e90deff4b94103d",
       "version_major": 2,
       "version_minor": 0
      },
      "text/plain": [
       "VBox(children=(HTML(value='<center> <img\\nsrc=https://huggingface.co/front/assets/huggingface_logo-noborder.sv…"
      ]
     },
     "metadata": {},
     "output_type": "display_data"
    }
   ],
   "source": [
    "from huggingface_hub import login\n",
    "login()\n"
   ]
  },
  {
   "cell_type": "code",
   "execution_count": null,
   "metadata": {},
   "outputs": [
    {
     "name": "stderr",
     "output_type": "stream",
     "text": [
      "/usr/local/lib/python3.12/dist-packages/huggingface_hub/utils/_auth.py:94: UserWarning: \n",
      "The secret `HF_TOKEN` does not exist in your Colab secrets.\n",
      "To authenticate with the Hugging Face Hub, create a token in your settings tab (https://huggingface.co/settings/tokens), set it as secret in your Google Colab and restart your session.\n",
      "You will be able to reuse this secret in all of your notebooks.\n",
      "Please note that authentication is recommended but still optional to access public models or datasets.\n",
      "  warnings.warn(\n"
     ]
    },
    {
     "data": {
      "application/vnd.jupyter.widget-view+json": {
       "model_id": "b65e1355ecb04e8c963c6443ebdb0321",
       "version_major": 2,
       "version_minor": 0
      },
      "text/plain": [
       "README.md:   0%|          | 0.00/12.5k [00:00<?, ?B/s]"
      ]
     },
     "metadata": {},
     "output_type": "display_data"
    },
    {
     "data": {
      "application/vnd.jupyter.widget-view+json": {
       "model_id": "a31c4c1c747441feb9a3b036f2f08cf5",
       "version_major": 2,
       "version_minor": 0
      },
      "text/plain": [
       "train_predicted_labels.csv:   0%|          | 0.00/2.76M [00:00<?, ?B/s]"
      ]
     },
     "metadata": {},
     "output_type": "display_data"
    },
    {
     "data": {
      "application/vnd.jupyter.widget-view+json": {
       "model_id": "8414288b04994987a6a3dc4d21816e68",
       "version_major": 2,
       "version_minor": 0
      },
      "text/plain": [
       "valid_predicted_labels.csv:   0%|          | 0.00/174k [00:00<?, ?B/s]"
      ]
     },
     "metadata": {},
     "output_type": "display_data"
    },
    {
     "data": {
      "application/vnd.jupyter.widget-view+json": {
       "model_id": "d286a69adc454c7faf7bd13024db093b",
       "version_major": 2,
       "version_minor": 0
      },
      "text/plain": [
       "Generating train split:   0%|          | 0/47149 [00:00<?, ? examples/s]"
      ]
     },
     "metadata": {},
     "output_type": "display_data"
    },
    {
     "data": {
      "application/vnd.jupyter.widget-view+json": {
       "model_id": "56ea57a0248548ba85becfd146636c0c",
       "version_major": 2,
       "version_minor": 0
      },
      "text/plain": [
       "Generating validation split:   0%|          | 0/3039 [00:00<?, ? examples/s]"
      ]
     },
     "metadata": {},
     "output_type": "display_data"
    }
   ],
   "source": [
    "from datasets import load_dataset\n",
    "\n",
    "# Login using e.g. `huggingface-cli login` to access this dataset\n",
    "ds = load_dataset(\"ibrahimhamamci/CT-RATE\", \"labels\")"
   ]
  },
  {
   "cell_type": "code",
   "execution_count": null,
   "metadata": {},
   "outputs": [
    {
     "data": {
      "text/plain": [
       "DatasetDict({\n",
       "    train: Dataset({\n",
       "        features: ['VolumeName', 'Medical material', 'Arterial wall calcification', 'Cardiomegaly', 'Pericardial effusion', 'Coronary artery wall calcification', 'Hiatal hernia', 'Lymphadenopathy', 'Emphysema', 'Atelectasis', 'Lung nodule', 'Lung opacity', 'Pulmonary fibrotic sequela', 'Pleural effusion', 'Mosaic attenuation pattern', 'Peribronchial thickening', 'Consolidation', 'Bronchiectasis', 'Interlobular septal thickening'],\n",
       "        num_rows: 47149\n",
       "    })\n",
       "    validation: Dataset({\n",
       "        features: ['VolumeName', 'Medical material', 'Arterial wall calcification', 'Cardiomegaly', 'Pericardial effusion', 'Coronary artery wall calcification', 'Hiatal hernia', 'Lymphadenopathy', 'Emphysema', 'Atelectasis', 'Lung nodule', 'Lung opacity', 'Pulmonary fibrotic sequela', 'Pleural effusion', 'Mosaic attenuation pattern', 'Peribronchial thickening', 'Consolidation', 'Bronchiectasis', 'Interlobular septal thickening'],\n",
       "        num_rows: 3039\n",
       "    })\n",
       "})"
      ]
     },
     "execution_count": 3,
     "metadata": {},
     "output_type": "execute_result"
    }
   ],
   "source": [
    "ds"
   ]
  },
  {
   "cell_type": "code",
   "execution_count": null,
   "metadata": {},
   "outputs": [],
   "source": [
    "small_train = ds['train'].shuffle(seed = 99).select(range(100))\n"
   ]
  },
  {
   "cell_type": "code",
   "execution_count": null,
   "metadata": {},
   "outputs": [],
   "source": [
    "small_valid = ds['validation'].shuffle(seed = 99).select(range(20))"
   ]
  },
  {
   "cell_type": "code",
   "execution_count": null,
   "metadata": {},
   "outputs": [
    {
     "name": "stderr",
     "output_type": "stream",
     "text": [
      "\r",
      "  0%|          | 0/100 [00:00<?, ?it/s]/usr/local/lib/python3.12/dist-packages/huggingface_hub/file_download.py:945: FutureWarning: `resume_download` is deprecated and will be removed in version 1.0.0. Downloads always resume when possible. If you want to force a new download, use `force_download=True`.\n",
      "  warnings.warn(\n",
      "/usr/local/lib/python3.12/dist-packages/huggingface_hub/file_download.py:982: UserWarning: `local_dir_use_symlinks` parameter is deprecated and will be ignored. The process to download files to a local folder has been updated and do not rely on symlinks anymore. You only need to pass a destination folder as`local_dir`.\n",
      "For more details, check out https://huggingface.co/docs/huggingface_hub/main/en/guides/download#download-files-to-local-folder.\n",
      "  warnings.warn(\n"
     ]
    },
    {
     "data": {
      "application/vnd.jupyter.widget-view+json": {
       "model_id": "8b63c754bb6d4ae59452418595aeb518",
       "version_major": 2,
       "version_minor": 0
      },
      "text/plain": [
       "dataset/train/train_7995/train_7995_a/tr(…):   0%|          | 0.00/236M [00:00<?, ?B/s]"
      ]
     },
     "metadata": {},
     "output_type": "display_data"
    },
    {
     "name": "stderr",
     "output_type": "stream",
     "text": [
      "\r",
      "  1%|          | 1/100 [00:04<06:49,  4.14s/it]"
     ]
    },
    {
     "data": {
      "application/vnd.jupyter.widget-view+json": {
       "model_id": "d0cf065d194b453596206c898c0ba46d",
       "version_major": 2,
       "version_minor": 0
      },
      "text/plain": [
       "dataset/train/train_3283/train_3283_a/tr(…):   0%|          | 0.00/341M [00:00<?, ?B/s]"
      ]
     },
     "metadata": {},
     "output_type": "display_data"
    },
    {
     "name": "stderr",
     "output_type": "stream",
     "text": [
      "\r",
      "  2%|▏         | 2/100 [00:08<06:59,  4.28s/it]"
     ]
    },
    {
     "data": {
      "application/vnd.jupyter.widget-view+json": {
       "model_id": "e20002bd265a41159f32cb43c3b6f9d5",
       "version_major": 2,
       "version_minor": 0
      },
      "text/plain": [
       "dataset/train/train_17379/train_17379_a/(…):   0%|          | 0.00/129M [00:00<?, ?B/s]"
      ]
     },
     "metadata": {},
     "output_type": "display_data"
    },
    {
     "name": "stderr",
     "output_type": "stream",
     "text": [
      "\r",
      "  3%|▎         | 3/100 [00:11<06:08,  3.79s/it]"
     ]
    },
    {
     "data": {
      "application/vnd.jupyter.widget-view+json": {
       "model_id": "361688e179a04b0b80c0f886542b7646",
       "version_major": 2,
       "version_minor": 0
      },
      "text/plain": [
       "dataset/train/train_15014/train_15014_a/(…):   0%|          | 0.00/153M [00:00<?, ?B/s]"
      ]
     },
     "metadata": {},
     "output_type": "display_data"
    },
    {
     "name": "stderr",
     "output_type": "stream",
     "text": [
      "\r",
      "  4%|▍         | 4/100 [00:14<05:35,  3.50s/it]"
     ]
    },
    {
     "data": {
      "application/vnd.jupyter.widget-view+json": {
       "model_id": "b897ab3cfbbe43d5a725a865fdfd240b",
       "version_major": 2,
       "version_minor": 0
      },
      "text/plain": [
       "dataset/train/train_16395/train_16395_a/(…):   0%|          | 0.00/502M [00:00<?, ?B/s]"
      ]
     },
     "metadata": {},
     "output_type": "display_data"
    },
    {
     "name": "stderr",
     "output_type": "stream",
     "text": [
      "\r",
      "  5%|▌         | 5/100 [00:22<07:49,  4.94s/it]"
     ]
    },
    {
     "data": {
      "application/vnd.jupyter.widget-view+json": {
       "model_id": "1bb8af65b10743c4ad63a324cf4b7b8d",
       "version_major": 2,
       "version_minor": 0
      },
      "text/plain": [
       "dataset/train/train_6407/train_6407_a/tr(…):   0%|          | 0.00/154M [00:00<?, ?B/s]"
      ]
     },
     "metadata": {},
     "output_type": "display_data"
    },
    {
     "name": "stderr",
     "output_type": "stream",
     "text": [
      "\r",
      "  6%|▌         | 6/100 [00:26<07:16,  4.65s/it]"
     ]
    },
    {
     "data": {
      "application/vnd.jupyter.widget-view+json": {
       "model_id": "04b2b64300604278aa01aa9ed44ef554",
       "version_major": 2,
       "version_minor": 0
      },
      "text/plain": [
       "dataset/train/train_15886/train_15886_a/(…):   0%|          | 0.00/388M [00:00<?, ?B/s]"
      ]
     },
     "metadata": {},
     "output_type": "display_data"
    },
    {
     "name": "stderr",
     "output_type": "stream",
     "text": [
      "\r",
      "  7%|▋         | 7/100 [00:31<07:24,  4.78s/it]"
     ]
    },
    {
     "data": {
      "application/vnd.jupyter.widget-view+json": {
       "model_id": "afd3dc6c122647c586c70c2c7fdd9bc9",
       "version_major": 2,
       "version_minor": 0
      },
      "text/plain": [
       "dataset/train/train_10032/train_10032_a/(…):   0%|          | 0.00/271M [00:00<?, ?B/s]"
      ]
     },
     "metadata": {},
     "output_type": "display_data"
    },
    {
     "name": "stderr",
     "output_type": "stream",
     "text": [
      "\r",
      "  8%|▊         | 8/100 [00:40<09:31,  6.21s/it]"
     ]
    },
    {
     "data": {
      "application/vnd.jupyter.widget-view+json": {
       "model_id": "6bbc272f91f44f1f856e5fdd35a201d8",
       "version_major": 2,
       "version_minor": 0
      },
      "text/plain": [
       "dataset/train/train_2150/train_2150_a/tr(…):   0%|          | 0.00/514M [00:00<?, ?B/s]"
      ]
     },
     "metadata": {},
     "output_type": "display_data"
    },
    {
     "name": "stderr",
     "output_type": "stream",
     "text": [
      "\r",
      "  9%|▉         | 9/100 [00:48<10:03,  6.63s/it]"
     ]
    },
    {
     "data": {
      "application/vnd.jupyter.widget-view+json": {
       "model_id": "2201bf359101497080b4475d6afc2907",
       "version_major": 2,
       "version_minor": 0
      },
      "text/plain": [
       "dataset/train/train_13159/train_13159_a/(…):   0%|          | 0.00/129M [00:00<?, ?B/s]"
      ]
     },
     "metadata": {},
     "output_type": "display_data"
    },
    {
     "name": "stderr",
     "output_type": "stream",
     "text": [
      "\r",
      " 10%|█         | 10/100 [00:51<08:34,  5.72s/it]"
     ]
    },
    {
     "data": {
      "application/vnd.jupyter.widget-view+json": {
       "model_id": "ae05bd231c5343b19bf37559ccf3b384",
       "version_major": 2,
       "version_minor": 0
      },
      "text/plain": [
       "dataset/train/train_15989/train_15989_a/(…):   0%|          | 0.00/482M [00:00<?, ?B/s]"
      ]
     },
     "metadata": {},
     "output_type": "display_data"
    },
    {
     "name": "stderr",
     "output_type": "stream",
     "text": [
      "\r",
      " 11%|█         | 11/100 [01:00<09:35,  6.47s/it]"
     ]
    },
    {
     "data": {
      "application/vnd.jupyter.widget-view+json": {
       "model_id": "53a4d093fb7d4147a70161db9f398843",
       "version_major": 2,
       "version_minor": 0
      },
      "text/plain": [
       "dataset/train/train_5699/train_5699_a/tr(…):   0%|          | 0.00/437M [00:00<?, ?B/s]"
      ]
     },
     "metadata": {},
     "output_type": "display_data"
    },
    {
     "name": "stderr",
     "output_type": "stream",
     "text": [
      "\r",
      " 12%|█▏        | 12/100 [01:10<11:11,  7.63s/it]"
     ]
    },
    {
     "data": {
      "application/vnd.jupyter.widget-view+json": {
       "model_id": "b6762f5801224a168bd12e8b3509e28f",
       "version_major": 2,
       "version_minor": 0
      },
      "text/plain": [
       "dataset/train/train_15206/train_15206_a/(…):   0%|          | 0.00/148M [00:00<?, ?B/s]"
      ]
     },
     "metadata": {},
     "output_type": "display_data"
    },
    {
     "name": "stderr",
     "output_type": "stream",
     "text": [
      "\r",
      " 13%|█▎        | 13/100 [01:13<09:16,  6.40s/it]"
     ]
    },
    {
     "data": {
      "application/vnd.jupyter.widget-view+json": {
       "model_id": "157502635c284e54b435a4a77f832b30",
       "version_major": 2,
       "version_minor": 0
      },
      "text/plain": [
       "dataset/train/train_826/train_826_a/trai(…):   0%|          | 0.00/240M [00:00<?, ?B/s]"
      ]
     },
     "metadata": {},
     "output_type": "display_data"
    },
    {
     "name": "stderr",
     "output_type": "stream",
     "text": [
      "\r",
      " 14%|█▍        | 14/100 [01:22<10:19,  7.21s/it]"
     ]
    },
    {
     "data": {
      "application/vnd.jupyter.widget-view+json": {
       "model_id": "9faed49dff054a54b8cb1b74678c81dc",
       "version_major": 2,
       "version_minor": 0
      },
      "text/plain": [
       "dataset/train/train_1219/train_1219_a/tr(…):   0%|          | 0.00/73.0M [00:00<?, ?B/s]"
      ]
     },
     "metadata": {},
     "output_type": "display_data"
    },
    {
     "name": "stderr",
     "output_type": "stream",
     "text": [
      "\r",
      " 15%|█▌        | 15/100 [01:26<08:44,  6.17s/it]"
     ]
    },
    {
     "data": {
      "application/vnd.jupyter.widget-view+json": {
       "model_id": "b17a397e21894bb7b93d237e3c7e5d48",
       "version_major": 2,
       "version_minor": 0
      },
      "text/plain": [
       "dataset/train/train_6930/train_6930_a/tr(…):   0%|          | 0.00/205M [00:00<?, ?B/s]"
      ]
     },
     "metadata": {},
     "output_type": "display_data"
    },
    {
     "name": "stderr",
     "output_type": "stream",
     "text": [
      "\r",
      " 16%|█▌        | 16/100 [01:30<07:39,  5.48s/it]"
     ]
    },
    {
     "data": {
      "application/vnd.jupyter.widget-view+json": {
       "model_id": "6afc3ca4c5044b50be86c22fcaa7dbc9",
       "version_major": 2,
       "version_minor": 0
      },
      "text/plain": [
       "dataset/train/train_871/train_871_a/trai(…):   0%|          | 0.00/530M [00:00<?, ?B/s]"
      ]
     },
     "metadata": {},
     "output_type": "display_data"
    },
    {
     "name": "stderr",
     "output_type": "stream",
     "text": [
      "\r",
      " 17%|█▋        | 17/100 [01:41<09:56,  7.18s/it]"
     ]
    },
    {
     "data": {
      "application/vnd.jupyter.widget-view+json": {
       "model_id": "24e443a0eb1a404280c345ede6961fa1",
       "version_major": 2,
       "version_minor": 0
      },
      "text/plain": [
       "dataset/train/train_8305/train_8305_a/tr(…):   0%|          | 0.00/244M [00:00<?, ?B/s]"
      ]
     },
     "metadata": {},
     "output_type": "display_data"
    },
    {
     "name": "stderr",
     "output_type": "stream",
     "text": [
      "\r",
      " 18%|█▊        | 18/100 [01:46<08:50,  6.47s/it]"
     ]
    },
    {
     "data": {
      "application/vnd.jupyter.widget-view+json": {
       "model_id": "8bd9fc21e5d8472099982947446d631b",
       "version_major": 2,
       "version_minor": 0
      },
      "text/plain": [
       "dataset/train/train_10744/train_10744_f/(…):   0%|          | 0.00/137M [00:00<?, ?B/s]"
      ]
     },
     "metadata": {},
     "output_type": "display_data"
    },
    {
     "name": "stderr",
     "output_type": "stream",
     "text": [
      "\r",
      " 19%|█▉        | 19/100 [01:50<07:38,  5.66s/it]"
     ]
    },
    {
     "data": {
      "application/vnd.jupyter.widget-view+json": {
       "model_id": "be21d5f385554b1eb524bcf42598a44d",
       "version_major": 2,
       "version_minor": 0
      },
      "text/plain": [
       "dataset/train/train_16206/train_16206_a/(…):   0%|          | 0.00/218M [00:00<?, ?B/s]"
      ]
     },
     "metadata": {},
     "output_type": "display_data"
    },
    {
     "name": "stderr",
     "output_type": "stream",
     "text": [
      "\r",
      " 20%|██        | 20/100 [01:54<06:55,  5.19s/it]"
     ]
    },
    {
     "data": {
      "application/vnd.jupyter.widget-view+json": {
       "model_id": "224f1cadb97b4cb6ad72acc4bbcd41e0",
       "version_major": 2,
       "version_minor": 0
      },
      "text/plain": [
       "dataset/train/train_14442/train_14442_a/(…):   0%|          | 0.00/133M [00:00<?, ?B/s]"
      ]
     },
     "metadata": {},
     "output_type": "display_data"
    },
    {
     "name": "stderr",
     "output_type": "stream",
     "text": [
      "\r",
      " 21%|██        | 21/100 [01:57<06:01,  4.57s/it]"
     ]
    },
    {
     "data": {
      "application/vnd.jupyter.widget-view+json": {
       "model_id": "6d0d65a945204c45a86271227f3a0302",
       "version_major": 2,
       "version_minor": 0
      },
      "text/plain": [
       "dataset/train/train_18488/train_18488_a/(…):   0%|          | 0.00/496M [00:00<?, ?B/s]"
      ]
     },
     "metadata": {},
     "output_type": "display_data"
    },
    {
     "name": "stderr",
     "output_type": "stream",
     "text": [
      "\r",
      " 22%|██▏       | 22/100 [02:13<10:30,  8.09s/it]"
     ]
    },
    {
     "data": {
      "application/vnd.jupyter.widget-view+json": {
       "model_id": "ba76e615de764171998aad235e497cee",
       "version_major": 2,
       "version_minor": 0
      },
      "text/plain": [
       "dataset/train/train_14388/train_14388_e/(…):   0%|          | 0.00/209M [00:00<?, ?B/s]"
      ]
     },
     "metadata": {},
     "output_type": "display_data"
    },
    {
     "name": "stderr",
     "output_type": "stream",
     "text": [
      "\r",
      " 23%|██▎       | 23/100 [02:17<08:50,  6.89s/it]"
     ]
    },
    {
     "data": {
      "application/vnd.jupyter.widget-view+json": {
       "model_id": "ad8627b631e74da597d345c98aa552a9",
       "version_major": 2,
       "version_minor": 0
      },
      "text/plain": [
       "dataset/train/train_1682/train_1682_b/tr(…):   0%|          | 0.00/196M [00:00<?, ?B/s]"
      ]
     },
     "metadata": {},
     "output_type": "display_data"
    },
    {
     "name": "stderr",
     "output_type": "stream",
     "text": [
      "\r",
      " 24%|██▍       | 24/100 [02:21<07:32,  5.95s/it]"
     ]
    },
    {
     "data": {
      "application/vnd.jupyter.widget-view+json": {
       "model_id": "57dfd248ba334165b2638d9341f0bdda",
       "version_major": 2,
       "version_minor": 0
      },
      "text/plain": [
       "dataset/train/train_16597/train_16597_a/(…):   0%|          | 0.00/442M [00:00<?, ?B/s]"
      ]
     },
     "metadata": {},
     "output_type": "display_data"
    },
    {
     "name": "stderr",
     "output_type": "stream",
     "text": [
      "\r",
      " 25%|██▌       | 25/100 [02:38<11:28,  9.18s/it]"
     ]
    },
    {
     "data": {
      "application/vnd.jupyter.widget-view+json": {
       "model_id": "7f1a7063fce34cb78b708e4c80f003f4",
       "version_major": 2,
       "version_minor": 0
      },
      "text/plain": [
       "dataset/train/train_13893/train_13893_a/(…):   0%|          | 0.00/453M [00:00<?, ?B/s]"
      ]
     },
     "metadata": {},
     "output_type": "display_data"
    },
    {
     "name": "stderr",
     "output_type": "stream",
     "text": [
      "\r",
      " 26%|██▌       | 26/100 [02:44<10:05,  8.18s/it]"
     ]
    },
    {
     "data": {
      "application/vnd.jupyter.widget-view+json": {
       "model_id": "73ce1a6b98c44b02b1f9344a070adc04",
       "version_major": 2,
       "version_minor": 0
      },
      "text/plain": [
       "dataset/train/train_102/train_102_c/trai(…):   0%|          | 0.00/132M [00:00<?, ?B/s]"
      ]
     },
     "metadata": {},
     "output_type": "display_data"
    },
    {
     "name": "stderr",
     "output_type": "stream",
     "text": [
      "\r",
      " 27%|██▋       | 27/100 [02:47<07:58,  6.55s/it]"
     ]
    },
    {
     "data": {
      "application/vnd.jupyter.widget-view+json": {
       "model_id": "79c737331a5b433988c1de569d769473",
       "version_major": 2,
       "version_minor": 0
      },
      "text/plain": [
       "dataset/train/train_19565/train_19565_b/(…):   0%|          | 0.00/191M [00:00<?, ?B/s]"
      ]
     },
     "metadata": {},
     "output_type": "display_data"
    },
    {
     "name": "stderr",
     "output_type": "stream",
     "text": [
      "\r",
      " 28%|██▊       | 28/100 [02:50<06:54,  5.76s/it]"
     ]
    },
    {
     "data": {
      "application/vnd.jupyter.widget-view+json": {
       "model_id": "caf8bc3e61e14a00ab4464d532378e02",
       "version_major": 2,
       "version_minor": 0
      },
      "text/plain": [
       "dataset/train/train_1564/train_1564_a/tr(…):   0%|          | 0.00/260M [00:00<?, ?B/s]"
      ]
     },
     "metadata": {},
     "output_type": "display_data"
    },
    {
     "name": "stderr",
     "output_type": "stream",
     "text": [
      "\r",
      " 29%|██▉       | 29/100 [02:55<06:13,  5.26s/it]"
     ]
    },
    {
     "data": {
      "application/vnd.jupyter.widget-view+json": {
       "model_id": "476793fc552c4f1e8eea5aaec9edee4d",
       "version_major": 2,
       "version_minor": 0
      },
      "text/plain": [
       "dataset/train/train_6531/train_6531_a/tr(…):   0%|          | 0.00/464M [00:00<?, ?B/s]"
      ]
     },
     "metadata": {},
     "output_type": "display_data"
    },
    {
     "name": "stderr",
     "output_type": "stream",
     "text": [
      "\r",
      " 30%|███       | 30/100 [03:09<09:13,  7.90s/it]"
     ]
    },
    {
     "data": {
      "application/vnd.jupyter.widget-view+json": {
       "model_id": "d5c924aeda25454ba01a2c528e02f7e5",
       "version_major": 2,
       "version_minor": 0
      },
      "text/plain": [
       "dataset/train/train_6060/train_6060_a/tr(…):   0%|          | 0.00/491M [00:00<?, ?B/s]"
      ]
     },
     "metadata": {},
     "output_type": "display_data"
    },
    {
     "name": "stderr",
     "output_type": "stream",
     "text": [
      "\r",
      " 31%|███       | 31/100 [03:21<10:38,  9.26s/it]"
     ]
    },
    {
     "data": {
      "application/vnd.jupyter.widget-view+json": {
       "model_id": "97224eb2478249389139a22edb4aafc3",
       "version_major": 2,
       "version_minor": 0
      },
      "text/plain": [
       "dataset/train/train_3024/train_3024_a/tr(…):   0%|          | 0.00/510M [00:00<?, ?B/s]"
      ]
     },
     "metadata": {},
     "output_type": "display_data"
    },
    {
     "name": "stderr",
     "output_type": "stream",
     "text": [
      "\r",
      " 32%|███▏      | 32/100 [03:28<09:48,  8.66s/it]"
     ]
    },
    {
     "data": {
      "application/vnd.jupyter.widget-view+json": {
       "model_id": "053d3aa7992c4f4fa5a24760e60ff8b2",
       "version_major": 2,
       "version_minor": 0
      },
      "text/plain": [
       "dataset/train/train_11057/train_11057_a/(…):   0%|          | 0.00/222M [00:00<?, ?B/s]"
      ]
     },
     "metadata": {},
     "output_type": "display_data"
    },
    {
     "name": "stderr",
     "output_type": "stream",
     "text": [
      "\r",
      " 33%|███▎      | 33/100 [03:36<09:14,  8.28s/it]"
     ]
    },
    {
     "data": {
      "application/vnd.jupyter.widget-view+json": {
       "model_id": "ab0d89aeef024ad1886e12af249226fb",
       "version_major": 2,
       "version_minor": 0
      },
      "text/plain": [
       "dataset/train/train_4904/train_4904_a/tr(…):   0%|          | 0.00/207M [00:00<?, ?B/s]"
      ]
     },
     "metadata": {},
     "output_type": "display_data"
    },
    {
     "name": "stderr",
     "output_type": "stream",
     "text": [
      "\r",
      " 34%|███▍      | 34/100 [03:42<08:17,  7.54s/it]"
     ]
    },
    {
     "data": {
      "application/vnd.jupyter.widget-view+json": {
       "model_id": "93eb2e45222545e5bac5d7aaee8c444d",
       "version_major": 2,
       "version_minor": 0
      },
      "text/plain": [
       "dataset/train/train_15711/train_15711_a/(…):   0%|          | 0.00/125M [00:00<?, ?B/s]"
      ]
     },
     "metadata": {},
     "output_type": "display_data"
    },
    {
     "name": "stderr",
     "output_type": "stream",
     "text": [
      "\r",
      " 35%|███▌      | 35/100 [03:45<06:44,  6.23s/it]"
     ]
    },
    {
     "data": {
      "application/vnd.jupyter.widget-view+json": {
       "model_id": "acaae4c966fb4f699427284bad43e1b7",
       "version_major": 2,
       "version_minor": 0
      },
      "text/plain": [
       "dataset/train/train_8615/train_8615_a/tr(…):   0%|          | 0.00/227M [00:00<?, ?B/s]"
      ]
     },
     "metadata": {},
     "output_type": "display_data"
    },
    {
     "name": "stderr",
     "output_type": "stream",
     "text": [
      "\r",
      " 36%|███▌      | 36/100 [03:53<07:09,  6.71s/it]"
     ]
    },
    {
     "data": {
      "application/vnd.jupyter.widget-view+json": {
       "model_id": "227deae28c4d4f2d9038d45524201fd0",
       "version_major": 2,
       "version_minor": 0
      },
      "text/plain": [
       "dataset/train/train_95/train_95_a/train_(…):   0%|          | 0.00/436M [00:00<?, ?B/s]"
      ]
     },
     "metadata": {},
     "output_type": "display_data"
    },
    {
     "name": "stderr",
     "output_type": "stream",
     "text": [
      "\r",
      " 37%|███▋      | 37/100 [04:02<08:02,  7.67s/it]"
     ]
    },
    {
     "data": {
      "application/vnd.jupyter.widget-view+json": {
       "model_id": "9e99069b5a15435fa02fb631975ef2d0",
       "version_major": 2,
       "version_minor": 0
      },
      "text/plain": [
       "dataset/train/train_491/train_491_a/trai(…):   0%|          | 0.00/117M [00:00<?, ?B/s]"
      ]
     },
     "metadata": {},
     "output_type": "display_data"
    },
    {
     "name": "stderr",
     "output_type": "stream",
     "text": [
      "\r",
      " 38%|███▊      | 38/100 [04:05<06:25,  6.21s/it]"
     ]
    },
    {
     "data": {
      "application/vnd.jupyter.widget-view+json": {
       "model_id": "9733590e1c504cd6b6a6ca2fb42aa4b4",
       "version_major": 2,
       "version_minor": 0
      },
      "text/plain": [
       "dataset/train/train_16540/train_16540_a/(…):   0%|          | 0.00/84.6M [00:00<?, ?B/s]"
      ]
     },
     "metadata": {},
     "output_type": "display_data"
    },
    {
     "name": "stderr",
     "output_type": "stream",
     "text": [
      "\r",
      " 39%|███▉      | 39/100 [04:08<05:15,  5.18s/it]"
     ]
    },
    {
     "data": {
      "application/vnd.jupyter.widget-view+json": {
       "model_id": "8984202594fc49719b6e3bdc9dbba52d",
       "version_major": 2,
       "version_minor": 0
      },
      "text/plain": [
       "dataset/train/train_16749/train_16749_a/(…):   0%|          | 0.00/170M [00:00<?, ?B/s]"
      ]
     },
     "metadata": {},
     "output_type": "display_data"
    },
    {
     "name": "stderr",
     "output_type": "stream",
     "text": [
      "\r",
      " 40%|████      | 40/100 [04:12<04:44,  4.74s/it]"
     ]
    },
    {
     "data": {
      "application/vnd.jupyter.widget-view+json": {
       "model_id": "b1c5ea3128a64f4c8ac34d4dadd3a8fa",
       "version_major": 2,
       "version_minor": 0
      },
      "text/plain": [
       "dataset/train/train_8123/train_8123_a/tr(…):   0%|          | 0.00/466M [00:00<?, ?B/s]"
      ]
     },
     "metadata": {},
     "output_type": "display_data"
    },
    {
     "name": "stderr",
     "output_type": "stream",
     "text": [
      "\r",
      " 41%|████      | 41/100 [04:25<07:09,  7.27s/it]"
     ]
    },
    {
     "data": {
      "application/vnd.jupyter.widget-view+json": {
       "model_id": "7d7cef14b4df4c40b1ea9f980e18dc5e",
       "version_major": 2,
       "version_minor": 0
      },
      "text/plain": [
       "dataset/train/train_12919/train_12919_a/(…):   0%|          | 0.00/141M [00:00<?, ?B/s]"
      ]
     },
     "metadata": {},
     "output_type": "display_data"
    },
    {
     "name": "stderr",
     "output_type": "stream",
     "text": [
      "\r",
      " 42%|████▏     | 42/100 [04:31<06:34,  6.81s/it]"
     ]
    },
    {
     "data": {
      "application/vnd.jupyter.widget-view+json": {
       "model_id": "9f9e7edaf45048169c8fe257a51974ef",
       "version_major": 2,
       "version_minor": 0
      },
      "text/plain": [
       "dataset/train/train_13611/train_13611_a/(…):   0%|          | 0.00/414M [00:00<?, ?B/s]"
      ]
     },
     "metadata": {},
     "output_type": "display_data"
    },
    {
     "name": "stderr",
     "output_type": "stream",
     "text": [
      "\r",
      " 43%|████▎     | 43/100 [04:41<07:23,  7.77s/it]"
     ]
    },
    {
     "data": {
      "application/vnd.jupyter.widget-view+json": {
       "model_id": "d84b89a1777c43afb153e6b4e5376250",
       "version_major": 2,
       "version_minor": 0
      },
      "text/plain": [
       "dataset/train/train_12722/train_12722_a/(…):   0%|          | 0.00/237M [00:00<?, ?B/s]"
      ]
     },
     "metadata": {},
     "output_type": "display_data"
    },
    {
     "name": "stderr",
     "output_type": "stream",
     "text": [
      "\r",
      " 44%|████▍     | 44/100 [04:45<06:10,  6.61s/it]"
     ]
    },
    {
     "data": {
      "application/vnd.jupyter.widget-view+json": {
       "model_id": "ddf590913d5742f6ae33d9953e201bbc",
       "version_major": 2,
       "version_minor": 0
      },
      "text/plain": [
       "dataset/train/train_18629/train_18629_a/(…):   0%|          | 0.00/220M [00:00<?, ?B/s]"
      ]
     },
     "metadata": {},
     "output_type": "display_data"
    },
    {
     "name": "stderr",
     "output_type": "stream",
     "text": [
      "\r",
      " 45%|████▌     | 45/100 [04:50<05:52,  6.40s/it]"
     ]
    },
    {
     "data": {
      "application/vnd.jupyter.widget-view+json": {
       "model_id": "725a34b8bc154253b19b26601f0171ae",
       "version_major": 2,
       "version_minor": 0
      },
      "text/plain": [
       "dataset/train/train_12251/train_12251_b/(…):   0%|          | 0.00/195M [00:00<?, ?B/s]"
      ]
     },
     "metadata": {},
     "output_type": "display_data"
    },
    {
     "name": "stderr",
     "output_type": "stream",
     "text": [
      "\r",
      " 46%|████▌     | 46/100 [04:57<05:53,  6.54s/it]"
     ]
    },
    {
     "data": {
      "application/vnd.jupyter.widget-view+json": {
       "model_id": "6f143b6f0a0d4628b3165d7af13f2a01",
       "version_major": 2,
       "version_minor": 0
      },
      "text/plain": [
       "dataset/train/train_8224/train_8224_a/tr(…):   0%|          | 0.00/488M [00:00<?, ?B/s]"
      ]
     },
     "metadata": {},
     "output_type": "display_data"
    },
    {
     "name": "stderr",
     "output_type": "stream",
     "text": [
      "\r",
      " 47%|████▋     | 47/100 [05:08<06:56,  7.86s/it]"
     ]
    },
    {
     "data": {
      "application/vnd.jupyter.widget-view+json": {
       "model_id": "75ed3230a0eb472aa496070449c26899",
       "version_major": 2,
       "version_minor": 0
      },
      "text/plain": [
       "dataset/train/train_7160/train_7160_a/tr(…):   0%|          | 0.00/259M [00:00<?, ?B/s]"
      ]
     },
     "metadata": {},
     "output_type": "display_data"
    },
    {
     "name": "stderr",
     "output_type": "stream",
     "text": [
      "\r",
      " 48%|████▊     | 48/100 [05:14<06:19,  7.29s/it]"
     ]
    },
    {
     "data": {
      "application/vnd.jupyter.widget-view+json": {
       "model_id": "b4875c6ebb9b4f92bcccecb68f382bbb",
       "version_major": 2,
       "version_minor": 0
      },
      "text/plain": [
       "dataset/train/train_5362/train_5362_a/tr(…):   0%|          | 0.00/216M [00:00<?, ?B/s]"
      ]
     },
     "metadata": {},
     "output_type": "display_data"
    },
    {
     "name": "stderr",
     "output_type": "stream",
     "text": [
      "\r",
      " 49%|████▉     | 49/100 [05:20<05:53,  6.93s/it]"
     ]
    },
    {
     "data": {
      "application/vnd.jupyter.widget-view+json": {
       "model_id": "b0d535e9458d4f22b16cfa17f06ace48",
       "version_major": 2,
       "version_minor": 0
      },
      "text/plain": [
       "dataset/train/train_16121/train_16121_a/(…):   0%|          | 0.00/449M [00:00<?, ?B/s]"
      ]
     },
     "metadata": {},
     "output_type": "display_data"
    },
    {
     "name": "stderr",
     "output_type": "stream",
     "text": [
      "\r",
      " 50%|█████     | 50/100 [05:35<07:43,  9.26s/it]"
     ]
    },
    {
     "data": {
      "application/vnd.jupyter.widget-view+json": {
       "model_id": "37173db63749461da1a4cf28feac5449",
       "version_major": 2,
       "version_minor": 0
      },
      "text/plain": [
       "dataset/train/train_18557/train_18557_a/(…):   0%|          | 0.00/286M [00:00<?, ?B/s]"
      ]
     },
     "metadata": {},
     "output_type": "display_data"
    },
    {
     "name": "stderr",
     "output_type": "stream",
     "text": [
      "\r",
      " 51%|█████     | 51/100 [05:39<06:22,  7.80s/it]"
     ]
    },
    {
     "data": {
      "application/vnd.jupyter.widget-view+json": {
       "model_id": "f8c6086614984457bb966ff1f762d7f8",
       "version_major": 2,
       "version_minor": 0
      },
      "text/plain": [
       "dataset/train/train_10048/train_10048_a/(…):   0%|          | 0.00/166M [00:00<?, ?B/s]"
      ]
     },
     "metadata": {},
     "output_type": "display_data"
    },
    {
     "name": "stderr",
     "output_type": "stream",
     "text": [
      "\r",
      " 52%|█████▏    | 52/100 [05:42<04:56,  6.18s/it]"
     ]
    },
    {
     "data": {
      "application/vnd.jupyter.widget-view+json": {
       "model_id": "de2aa7d93e304c46abf99c92a1a53b46",
       "version_major": 2,
       "version_minor": 0
      },
      "text/plain": [
       "dataset/train/train_11144/train_11144_a/(…):   0%|          | 0.00/216M [00:00<?, ?B/s]"
      ]
     },
     "metadata": {},
     "output_type": "display_data"
    },
    {
     "name": "stderr",
     "output_type": "stream",
     "text": [
      "\r",
      " 53%|█████▎    | 53/100 [05:45<04:03,  5.18s/it]"
     ]
    },
    {
     "data": {
      "application/vnd.jupyter.widget-view+json": {
       "model_id": "e6bae30f58c142b7bd73bacacf073db4",
       "version_major": 2,
       "version_minor": 0
      },
      "text/plain": [
       "dataset/train/train_19843/train_19843_a/(…):   0%|          | 0.00/195M [00:00<?, ?B/s]"
      ]
     },
     "metadata": {},
     "output_type": "display_data"
    },
    {
     "name": "stderr",
     "output_type": "stream",
     "text": [
      "\r",
      " 54%|█████▍    | 54/100 [05:51<04:10,  5.45s/it]"
     ]
    },
    {
     "data": {
      "application/vnd.jupyter.widget-view+json": {
       "model_id": "823bec67650a41839427e07021fc7c7f",
       "version_major": 2,
       "version_minor": 0
      },
      "text/plain": [
       "dataset/train/train_1524/train_1524_a/tr(…):   0%|          | 0.00/244M [00:00<?, ?B/s]"
      ]
     },
     "metadata": {},
     "output_type": "display_data"
    },
    {
     "name": "stderr",
     "output_type": "stream",
     "text": [
      "\r",
      " 55%|█████▌    | 55/100 [05:59<04:47,  6.40s/it]"
     ]
    },
    {
     "data": {
      "application/vnd.jupyter.widget-view+json": {
       "model_id": "bce6fc991ebb42ff972181959ef8937b",
       "version_major": 2,
       "version_minor": 0
      },
      "text/plain": [
       "dataset/train/train_16951/train_16951_b/(…):   0%|          | 0.00/151M [00:00<?, ?B/s]"
      ]
     },
     "metadata": {},
     "output_type": "display_data"
    },
    {
     "name": "stderr",
     "output_type": "stream",
     "text": [
      "\r",
      " 56%|█████▌    | 56/100 [06:03<04:05,  5.58s/it]"
     ]
    },
    {
     "data": {
      "application/vnd.jupyter.widget-view+json": {
       "model_id": "ab4b548193d74c66b8b49ab19b9d9318",
       "version_major": 2,
       "version_minor": 0
      },
      "text/plain": [
       "dataset/train/train_7346/train_7346_b/tr(…):   0%|          | 0.00/190M [00:00<?, ?B/s]"
      ]
     },
     "metadata": {},
     "output_type": "display_data"
    },
    {
     "name": "stderr",
     "output_type": "stream",
     "text": [
      "\r",
      " 57%|█████▋    | 57/100 [06:07<03:33,  4.97s/it]"
     ]
    },
    {
     "data": {
      "application/vnd.jupyter.widget-view+json": {
       "model_id": "4b2c68b649784531b54902d39f336f54",
       "version_major": 2,
       "version_minor": 0
      },
      "text/plain": [
       "dataset/train/train_9696/train_9696_a/tr(…):   0%|          | 0.00/225M [00:00<?, ?B/s]"
      ]
     },
     "metadata": {},
     "output_type": "display_data"
    },
    {
     "name": "stderr",
     "output_type": "stream",
     "text": [
      "\r",
      " 58%|█████▊    | 58/100 [06:11<03:28,  4.97s/it]"
     ]
    },
    {
     "data": {
      "application/vnd.jupyter.widget-view+json": {
       "model_id": "4014257b526b4ec7a30874447cb59048",
       "version_major": 2,
       "version_minor": 0
      },
      "text/plain": [
       "dataset/train/train_18242/train_18242_a/(…):   0%|          | 0.00/200M [00:00<?, ?B/s]"
      ]
     },
     "metadata": {},
     "output_type": "display_data"
    },
    {
     "name": "stderr",
     "output_type": "stream",
     "text": [
      "\r",
      " 59%|█████▉    | 59/100 [06:17<03:32,  5.18s/it]"
     ]
    },
    {
     "data": {
      "application/vnd.jupyter.widget-view+json": {
       "model_id": "be5a0fddba05413da75dd2ad73b458a4",
       "version_major": 2,
       "version_minor": 0
      },
      "text/plain": [
       "dataset/train/train_18601/train_18601_a/(…):   0%|          | 0.00/127M [00:00<?, ?B/s]"
      ]
     },
     "metadata": {},
     "output_type": "display_data"
    },
    {
     "name": "stderr",
     "output_type": "stream",
     "text": [
      "\r",
      " 60%|██████    | 60/100 [06:20<03:02,  4.57s/it]"
     ]
    },
    {
     "data": {
      "application/vnd.jupyter.widget-view+json": {
       "model_id": "348ce956ac2248d2910c4073370b6960",
       "version_major": 2,
       "version_minor": 0
      },
      "text/plain": [
       "dataset/train/train_17448/train_17448_a/(…):   0%|          | 0.00/165M [00:00<?, ?B/s]"
      ]
     },
     "metadata": {},
     "output_type": "display_data"
    },
    {
     "name": "stderr",
     "output_type": "stream",
     "text": [
      "\r",
      " 61%|██████    | 61/100 [06:24<02:45,  4.24s/it]"
     ]
    },
    {
     "data": {
      "application/vnd.jupyter.widget-view+json": {
       "model_id": "34d8587c312b49feb7d1846fd511892d",
       "version_major": 2,
       "version_minor": 0
      },
      "text/plain": [
       "dataset/train/train_18814/train_18814_a/(…):   0%|          | 0.00/512M [00:00<?, ?B/s]"
      ]
     },
     "metadata": {},
     "output_type": "display_data"
    },
    {
     "name": "stderr",
     "output_type": "stream",
     "text": [
      "\r",
      " 62%|██████▏   | 62/100 [06:36<04:09,  6.56s/it]"
     ]
    },
    {
     "data": {
      "application/vnd.jupyter.widget-view+json": {
       "model_id": "c7aa4aa565044d669ad08f8074fbfe6e",
       "version_major": 2,
       "version_minor": 0
      },
      "text/plain": [
       "train_4223_a_2.nii.gz:   0%|          | 0.00/211M [00:00<?, ?B/s]"
      ]
     },
     "metadata": {},
     "output_type": "display_data"
    },
    {
     "name": "stderr",
     "output_type": "stream",
     "text": [
      "\r",
      " 63%|██████▎   | 63/100 [06:42<03:57,  6.41s/it]"
     ]
    },
    {
     "data": {
      "application/vnd.jupyter.widget-view+json": {
       "model_id": "6803b23540c94c768c3778570492de89",
       "version_major": 2,
       "version_minor": 0
      },
      "text/plain": [
       "dataset/train/train_15807/train_15807_c/(…):   0%|          | 0.00/467M [00:00<?, ?B/s]"
      ]
     },
     "metadata": {},
     "output_type": "display_data"
    },
    {
     "name": "stderr",
     "output_type": "stream",
     "text": [
      "\r",
      " 64%|██████▍   | 64/100 [06:52<04:30,  7.52s/it]"
     ]
    },
    {
     "data": {
      "application/vnd.jupyter.widget-view+json": {
       "model_id": "b78c58dcca294aefb8492eeda9e9d3f0",
       "version_major": 2,
       "version_minor": 0
      },
      "text/plain": [
       "dataset/train/train_2069/train_2069_a/tr(…):   0%|          | 0.00/242M [00:00<?, ?B/s]"
      ]
     },
     "metadata": {},
     "output_type": "display_data"
    },
    {
     "name": "stderr",
     "output_type": "stream",
     "text": [
      "\r",
      " 65%|██████▌   | 65/100 [06:56<03:52,  6.63s/it]"
     ]
    },
    {
     "data": {
      "application/vnd.jupyter.widget-view+json": {
       "model_id": "2e8eebfc4ae7476a84f045ad7c1424e2",
       "version_major": 2,
       "version_minor": 0
      },
      "text/plain": [
       "dataset/train/train_19410/train_19410_a/(…):   0%|          | 0.00/413M [00:00<?, ?B/s]"
      ]
     },
     "metadata": {},
     "output_type": "display_data"
    },
    {
     "name": "stderr",
     "output_type": "stream",
     "text": [
      "\r",
      " 66%|██████▌   | 66/100 [07:08<04:39,  8.22s/it]"
     ]
    },
    {
     "data": {
      "application/vnd.jupyter.widget-view+json": {
       "model_id": "7fb06e6226f54d2681f5a005866e4c15",
       "version_major": 2,
       "version_minor": 0
      },
      "text/plain": [
       "dataset/train/train_5165/train_5165_b/tr(…):   0%|          | 0.00/411M [00:00<?, ?B/s]"
      ]
     },
     "metadata": {},
     "output_type": "display_data"
    },
    {
     "name": "stderr",
     "output_type": "stream",
     "text": [
      "\r",
      " 67%|██████▋   | 67/100 [07:17<04:35,  8.35s/it]"
     ]
    },
    {
     "data": {
      "application/vnd.jupyter.widget-view+json": {
       "model_id": "80a293b5b9ac4ac9beb812c9be03ba6c",
       "version_major": 2,
       "version_minor": 0
      },
      "text/plain": [
       "dataset/train/train_1348/train_1348_e/tr(…):   0%|          | 0.00/105M [00:00<?, ?B/s]"
      ]
     },
     "metadata": {},
     "output_type": "display_data"
    },
    {
     "name": "stderr",
     "output_type": "stream",
     "text": [
      "\r",
      " 68%|██████▊   | 68/100 [07:20<03:34,  6.70s/it]"
     ]
    },
    {
     "data": {
      "application/vnd.jupyter.widget-view+json": {
       "model_id": "193ab18b9fa1469cb53978c679f25eb2",
       "version_major": 2,
       "version_minor": 0
      },
      "text/plain": [
       "dataset/train/train_8288/train_8288_a/tr(…):   0%|          | 0.00/239M [00:00<?, ?B/s]"
      ]
     },
     "metadata": {},
     "output_type": "display_data"
    },
    {
     "name": "stderr",
     "output_type": "stream",
     "text": [
      "\r",
      " 69%|██████▉   | 69/100 [07:26<03:21,  6.51s/it]"
     ]
    },
    {
     "data": {
      "application/vnd.jupyter.widget-view+json": {
       "model_id": "1d636819919144fe8c3e5f50a6ca369f",
       "version_major": 2,
       "version_minor": 0
      },
      "text/plain": [
       "dataset/train/train_13057/train_13057_a/(…):   0%|          | 0.00/208M [00:00<?, ?B/s]"
      ]
     },
     "metadata": {},
     "output_type": "display_data"
    },
    {
     "name": "stderr",
     "output_type": "stream",
     "text": [
      "\r",
      " 70%|███████   | 70/100 [07:33<03:21,  6.71s/it]"
     ]
    },
    {
     "data": {
      "application/vnd.jupyter.widget-view+json": {
       "model_id": "7f2666d5040b4b689a803a288ab1e656",
       "version_major": 2,
       "version_minor": 0
      },
      "text/plain": [
       "dataset/train/train_241/train_241_a/trai(…):   0%|          | 0.00/176M [00:00<?, ?B/s]"
      ]
     },
     "metadata": {},
     "output_type": "display_data"
    },
    {
     "name": "stderr",
     "output_type": "stream",
     "text": [
      "\r",
      " 71%|███████   | 71/100 [07:41<03:26,  7.11s/it]"
     ]
    },
    {
     "data": {
      "application/vnd.jupyter.widget-view+json": {
       "model_id": "2fb16903f6cb499d9189f2f306477fd0",
       "version_major": 2,
       "version_minor": 0
      },
      "text/plain": [
       "dataset/train/train_16202/train_16202_a/(…):   0%|          | 0.00/128M [00:00<?, ?B/s]"
      ]
     },
     "metadata": {},
     "output_type": "display_data"
    },
    {
     "name": "stderr",
     "output_type": "stream",
     "text": [
      "\r",
      " 72%|███████▏  | 72/100 [07:44<02:43,  5.86s/it]"
     ]
    },
    {
     "data": {
      "application/vnd.jupyter.widget-view+json": {
       "model_id": "2e253fc0fc8c4d2fbf5490c83a12a3ba",
       "version_major": 2,
       "version_minor": 0
      },
      "text/plain": [
       "dataset/train/train_7927/train_7927_a/tr(…):   0%|          | 0.00/277M [00:00<?, ?B/s]"
      ]
     },
     "metadata": {},
     "output_type": "display_data"
    },
    {
     "name": "stderr",
     "output_type": "stream",
     "text": [
      "\r",
      " 73%|███████▎  | 73/100 [07:52<02:50,  6.31s/it]"
     ]
    },
    {
     "data": {
      "application/vnd.jupyter.widget-view+json": {
       "model_id": "fe240243a5be407ab6867291cd015355",
       "version_major": 2,
       "version_minor": 0
      },
      "text/plain": [
       "dataset/train/train_2329/train_2329_f/tr(…):   0%|          | 0.00/165M [00:00<?, ?B/s]"
      ]
     },
     "metadata": {},
     "output_type": "display_data"
    },
    {
     "name": "stderr",
     "output_type": "stream",
     "text": [
      "\r",
      " 74%|███████▍  | 74/100 [07:55<02:22,  5.48s/it]"
     ]
    },
    {
     "data": {
      "application/vnd.jupyter.widget-view+json": {
       "model_id": "2975479a80e447488021fbce16143e8a",
       "version_major": 2,
       "version_minor": 0
      },
      "text/plain": [
       "dataset/train/train_1201/train_1201_b/tr(…):   0%|          | 0.00/141M [00:00<?, ?B/s]"
      ]
     },
     "metadata": {},
     "output_type": "display_data"
    },
    {
     "name": "stderr",
     "output_type": "stream",
     "text": [
      "\r",
      " 75%|███████▌  | 75/100 [07:57<01:49,  4.39s/it]"
     ]
    },
    {
     "data": {
      "application/vnd.jupyter.widget-view+json": {
       "model_id": "cd9298ebda5a4be1aea830a90bce287a",
       "version_major": 2,
       "version_minor": 0
      },
      "text/plain": [
       "dataset/train/train_4767/train_4767_a/tr(…):   0%|          | 0.00/119M [00:00<?, ?B/s]"
      ]
     },
     "metadata": {},
     "output_type": "display_data"
    },
    {
     "name": "stderr",
     "output_type": "stream",
     "text": [
      "\r",
      " 76%|███████▌  | 76/100 [08:01<01:46,  4.44s/it]"
     ]
    },
    {
     "data": {
      "application/vnd.jupyter.widget-view+json": {
       "model_id": "e2b572d15708402cabf878a09eb3ee8b",
       "version_major": 2,
       "version_minor": 0
      },
      "text/plain": [
       "dataset/train/train_10491/train_10491_a/(…):   0%|          | 0.00/228M [00:00<?, ?B/s]"
      ]
     },
     "metadata": {},
     "output_type": "display_data"
    },
    {
     "name": "stderr",
     "output_type": "stream",
     "text": [
      "\r",
      " 77%|███████▋  | 77/100 [08:05<01:38,  4.27s/it]"
     ]
    },
    {
     "data": {
      "application/vnd.jupyter.widget-view+json": {
       "model_id": "a8560e7d110943ee9211a897a97e87a0",
       "version_major": 2,
       "version_minor": 0
      },
      "text/plain": [
       "dataset/train/train_13045/train_13045_a/(…):   0%|          | 0.00/493M [00:00<?, ?B/s]"
      ]
     },
     "metadata": {},
     "output_type": "display_data"
    },
    {
     "name": "stderr",
     "output_type": "stream",
     "text": [
      "\r",
      " 78%|███████▊  | 78/100 [08:20<02:43,  7.43s/it]"
     ]
    },
    {
     "data": {
      "application/vnd.jupyter.widget-view+json": {
       "model_id": "9f0dbc062fad4b27ac0a8b73029ccd4c",
       "version_major": 2,
       "version_minor": 0
      },
      "text/plain": [
       "dataset/train/train_4035/train_4035_a/tr(…):   0%|          | 0.00/510M [00:00<?, ?B/s]"
      ]
     },
     "metadata": {},
     "output_type": "display_data"
    },
    {
     "name": "stderr",
     "output_type": "stream",
     "text": [
      "\r",
      " 79%|███████▉  | 79/100 [08:33<03:08,  8.97s/it]"
     ]
    },
    {
     "data": {
      "application/vnd.jupyter.widget-view+json": {
       "model_id": "51c2a69a91534ffaba1c4fa51bba4c47",
       "version_major": 2,
       "version_minor": 0
      },
      "text/plain": [
       "dataset/train/train_3653/train_3653_c/tr(…):   0%|          | 0.00/484M [00:00<?, ?B/s]"
      ]
     },
     "metadata": {},
     "output_type": "display_data"
    },
    {
     "name": "stderr",
     "output_type": "stream",
     "text": [
      "\r",
      " 80%|████████  | 80/100 [08:45<03:17,  9.85s/it]"
     ]
    },
    {
     "data": {
      "application/vnd.jupyter.widget-view+json": {
       "model_id": "ce29f8d0378940a882f3110ce6f4fc9f",
       "version_major": 2,
       "version_minor": 0
      },
      "text/plain": [
       "dataset/train/train_4121/train_4121_a/tr(…):   0%|          | 0.00/211M [00:00<?, ?B/s]"
      ]
     },
     "metadata": {},
     "output_type": "display_data"
    },
    {
     "name": "stderr",
     "output_type": "stream",
     "text": [
      "\r",
      " 81%|████████  | 81/100 [08:48<02:33,  8.07s/it]"
     ]
    },
    {
     "data": {
      "application/vnd.jupyter.widget-view+json": {
       "model_id": "724cb43e949d45229fcf4ee11976574a",
       "version_major": 2,
       "version_minor": 0
      },
      "text/plain": [
       "dataset/train/train_3395/train_3395_a/tr(…):   0%|          | 0.00/126M [00:00<?, ?B/s]"
      ]
     },
     "metadata": {},
     "output_type": "display_data"
    },
    {
     "name": "stderr",
     "output_type": "stream",
     "text": [
      "\r",
      " 82%|████████▏ | 82/100 [08:53<02:03,  6.86s/it]"
     ]
    },
    {
     "data": {
      "application/vnd.jupyter.widget-view+json": {
       "model_id": "735395782c9f4f40ab589547f03b2c80",
       "version_major": 2,
       "version_minor": 0
      },
      "text/plain": [
       "dataset/train/train_1292/train_1292_c/tr(…):   0%|          | 0.00/130M [00:00<?, ?B/s]"
      ]
     },
     "metadata": {},
     "output_type": "display_data"
    },
    {
     "name": "stderr",
     "output_type": "stream",
     "text": [
      "\r",
      " 83%|████████▎ | 83/100 [08:55<01:36,  5.69s/it]"
     ]
    },
    {
     "data": {
      "application/vnd.jupyter.widget-view+json": {
       "model_id": "a99e1a0256294409b921218e7e8f5527",
       "version_major": 2,
       "version_minor": 0
      },
      "text/plain": [
       "dataset/train/train_1384/train_1384_g/tr(…):   0%|          | 0.00/185M [00:00<?, ?B/s]"
      ]
     },
     "metadata": {},
     "output_type": "display_data"
    },
    {
     "name": "stderr",
     "output_type": "stream",
     "text": [
      "\r",
      " 84%|████████▍ | 84/100 [09:00<01:25,  5.33s/it]"
     ]
    },
    {
     "data": {
      "application/vnd.jupyter.widget-view+json": {
       "model_id": "a1c5a291eded44aab3f16bba7bd52aeb",
       "version_major": 2,
       "version_minor": 0
      },
      "text/plain": [
       "dataset/train/train_4611/train_4611_a/tr(…):   0%|          | 0.00/511M [00:00<?, ?B/s]"
      ]
     },
     "metadata": {},
     "output_type": "display_data"
    },
    {
     "name": "stderr",
     "output_type": "stream",
     "text": [
      "\r",
      " 85%|████████▌ | 85/100 [09:14<01:57,  7.83s/it]"
     ]
    },
    {
     "data": {
      "application/vnd.jupyter.widget-view+json": {
       "model_id": "e5f3b5f76d804313ac0bb8a74743b551",
       "version_major": 2,
       "version_minor": 0
      },
      "text/plain": [
       "dataset/train/train_19051/train_19051_a/(…):   0%|          | 0.00/288M [00:00<?, ?B/s]"
      ]
     },
     "metadata": {},
     "output_type": "display_data"
    },
    {
     "name": "stderr",
     "output_type": "stream",
     "text": [
      "\r",
      " 86%|████████▌ | 86/100 [09:18<01:35,  6.83s/it]"
     ]
    },
    {
     "data": {
      "application/vnd.jupyter.widget-view+json": {
       "model_id": "c5ddbd38edce44d9b2f1e84b1bdc8943",
       "version_major": 2,
       "version_minor": 0
      },
      "text/plain": [
       "dataset/train/train_3324/train_3324_a/tr(…):   0%|          | 0.00/506M [00:00<?, ?B/s]"
      ]
     },
     "metadata": {},
     "output_type": "display_data"
    },
    {
     "name": "stderr",
     "output_type": "stream",
     "text": [
      "\r",
      " 87%|████████▋ | 87/100 [09:26<01:32,  7.10s/it]"
     ]
    },
    {
     "data": {
      "application/vnd.jupyter.widget-view+json": {
       "model_id": "8659cb6cfba54b54b8b0a472c94817e9",
       "version_major": 2,
       "version_minor": 0
      },
      "text/plain": [
       "dataset/train/train_11994/train_11994_a/(…):   0%|          | 0.00/150M [00:00<?, ?B/s]"
      ]
     },
     "metadata": {},
     "output_type": "display_data"
    },
    {
     "name": "stderr",
     "output_type": "stream",
     "text": [
      "\r",
      " 88%|████████▊ | 88/100 [09:29<01:09,  5.83s/it]"
     ]
    },
    {
     "data": {
      "application/vnd.jupyter.widget-view+json": {
       "model_id": "335cbc643dd248c58db80426e7e384db",
       "version_major": 2,
       "version_minor": 0
      },
      "text/plain": [
       "dataset/train/train_4163/train_4163_a/tr(…):   0%|          | 0.00/141M [00:00<?, ?B/s]"
      ]
     },
     "metadata": {},
     "output_type": "display_data"
    },
    {
     "name": "stderr",
     "output_type": "stream",
     "text": [
      "\r",
      " 89%|████████▉ | 89/100 [09:32<00:56,  5.15s/it]"
     ]
    },
    {
     "data": {
      "application/vnd.jupyter.widget-view+json": {
       "model_id": "1a908817ce9c4da2963314f8de179442",
       "version_major": 2,
       "version_minor": 0
      },
      "text/plain": [
       "dataset/train/train_11073/train_11073_b/(…):   0%|          | 0.00/517M [00:00<?, ?B/s]"
      ]
     },
     "metadata": {},
     "output_type": "display_data"
    },
    {
     "name": "stderr",
     "output_type": "stream",
     "text": [
      "\r",
      " 90%|█████████ | 90/100 [09:48<01:24,  8.41s/it]"
     ]
    },
    {
     "data": {
      "application/vnd.jupyter.widget-view+json": {
       "model_id": "bc751cb8bf674d57aa18d4380df7012f",
       "version_major": 2,
       "version_minor": 0
      },
      "text/plain": [
       "dataset/train/train_15154/train_15154_a/(…):   0%|          | 0.00/139M [00:00<?, ?B/s]"
      ]
     },
     "metadata": {},
     "output_type": "display_data"
    },
    {
     "name": "stderr",
     "output_type": "stream",
     "text": [
      "\r",
      " 91%|█████████ | 91/100 [09:52<01:03,  7.04s/it]"
     ]
    },
    {
     "data": {
      "application/vnd.jupyter.widget-view+json": {
       "model_id": "ad1779de34024d50b1d00dd1498e8b9f",
       "version_major": 2,
       "version_minor": 0
      },
      "text/plain": [
       "dataset/train/train_4044/train_4044_b/tr(…):   0%|          | 0.00/129M [00:00<?, ?B/s]"
      ]
     },
     "metadata": {},
     "output_type": "display_data"
    },
    {
     "name": "stderr",
     "output_type": "stream",
     "text": [
      "\r",
      " 92%|█████████▏| 92/100 [09:59<00:54,  6.87s/it]"
     ]
    },
    {
     "data": {
      "application/vnd.jupyter.widget-view+json": {
       "model_id": "91e682d246ca49a68b39a4df70ba8a02",
       "version_major": 2,
       "version_minor": 0
      },
      "text/plain": [
       "dataset/train/train_14933/train_14933_a/(…):   0%|          | 0.00/164M [00:00<?, ?B/s]"
      ]
     },
     "metadata": {},
     "output_type": "display_data"
    },
    {
     "name": "stderr",
     "output_type": "stream",
     "text": [
      "\r",
      " 93%|█████████▎| 93/100 [10:02<00:40,  5.75s/it]"
     ]
    },
    {
     "data": {
      "application/vnd.jupyter.widget-view+json": {
       "model_id": "28fdce327c4445cda199b6f4d5217750",
       "version_major": 2,
       "version_minor": 0
      },
      "text/plain": [
       "dataset/train/train_3527/train_3527_a/tr(…):   0%|          | 0.00/151M [00:00<?, ?B/s]"
      ]
     },
     "metadata": {},
     "output_type": "display_data"
    },
    {
     "name": "stderr",
     "output_type": "stream",
     "text": [
      "\r",
      " 94%|█████████▍| 94/100 [10:05<00:30,  5.08s/it]"
     ]
    },
    {
     "data": {
      "application/vnd.jupyter.widget-view+json": {
       "model_id": "110e29a9f39c4e0abd5f0d69d75ab165",
       "version_major": 2,
       "version_minor": 0
      },
      "text/plain": [
       "dataset/train/train_6061/train_6061_a/tr(…):   0%|          | 0.00/120M [00:00<?, ?B/s]"
      ]
     },
     "metadata": {},
     "output_type": "display_data"
    },
    {
     "name": "stderr",
     "output_type": "stream",
     "text": [
      "\r",
      " 95%|█████████▌| 95/100 [10:08<00:22,  4.46s/it]"
     ]
    },
    {
     "data": {
      "application/vnd.jupyter.widget-view+json": {
       "model_id": "0951a8aa8eac4bd2857c6a2f8c55eabe",
       "version_major": 2,
       "version_minor": 0
      },
      "text/plain": [
       "dataset/train/train_2299/train_2299_a/tr(…):   0%|          | 0.00/533M [00:00<?, ?B/s]"
      ]
     },
     "metadata": {},
     "output_type": "display_data"
    },
    {
     "name": "stderr",
     "output_type": "stream",
     "text": [
      "\r",
      " 96%|█████████▌| 96/100 [10:25<00:33,  8.28s/it]"
     ]
    },
    {
     "data": {
      "application/vnd.jupyter.widget-view+json": {
       "model_id": "bde73b93ace9469d8140f7d9350b96a8",
       "version_major": 2,
       "version_minor": 0
      },
      "text/plain": [
       "dataset/train/train_12134/train_12134_a/(…):   0%|          | 0.00/149M [00:00<?, ?B/s]"
      ]
     },
     "metadata": {},
     "output_type": "display_data"
    },
    {
     "name": "stderr",
     "output_type": "stream",
     "text": [
      "\r",
      " 97%|█████████▋| 97/100 [10:30<00:21,  7.10s/it]"
     ]
    },
    {
     "data": {
      "application/vnd.jupyter.widget-view+json": {
       "model_id": "7f724b6cd43e4d4bb849c564287c5645",
       "version_major": 2,
       "version_minor": 0
      },
      "text/plain": [
       "dataset/train/train_12474/train_12474_a/(…):   0%|          | 0.00/531M [00:00<?, ?B/s]"
      ]
     },
     "metadata": {},
     "output_type": "display_data"
    },
    {
     "name": "stderr",
     "output_type": "stream",
     "text": [
      "\r",
      " 98%|█████████▊| 98/100 [10:40<00:16,  8.01s/it]"
     ]
    },
    {
     "data": {
      "application/vnd.jupyter.widget-view+json": {
       "model_id": "949a98cf786c42dcb6673b0941162eb3",
       "version_major": 2,
       "version_minor": 0
      },
      "text/plain": [
       "dataset/train/train_11898/train_11898_a/(…):   0%|          | 0.00/236M [00:00<?, ?B/s]"
      ]
     },
     "metadata": {},
     "output_type": "display_data"
    },
    {
     "name": "stderr",
     "output_type": "stream",
     "text": [
      "\r",
      " 99%|█████████▉| 99/100 [10:46<00:07,  7.52s/it]"
     ]
    },
    {
     "data": {
      "application/vnd.jupyter.widget-view+json": {
       "model_id": "84da7d807d4a4d03b00433ac9c6fb462",
       "version_major": 2,
       "version_minor": 0
      },
      "text/plain": [
       "dataset/train/train_11074/train_11074_a/(…):   0%|          | 0.00/110M [00:00<?, ?B/s]"
      ]
     },
     "metadata": {},
     "output_type": "display_data"
    },
    {
     "name": "stderr",
     "output_type": "stream",
     "text": [
      "100%|██████████| 100/100 [10:48<00:00,  6.48s/it]\n"
     ]
    }
   ],
   "source": [
    "import shutil\n",
    "import pandas as pd\n",
    "from huggingface_hub import hf_hub_download\n",
    "from tqdm import tqdm\n",
    "import os\n",
    "\n",
    "repo_id = 'ibrahimhamamci/CT-RATE'\n",
    "directory_name = 'dataset/train/'  # adjust if needed\n",
    "hf_token = ''   # replace with your actual token\n",
    "local_data_dir = 'data_volumes'    # folder to save volumes\n",
    "\n",
    "# Get volume names from your small_train dataset\n",
    "small_volume_names = [item['VolumeName'] for item in small_train]\n",
    "\n",
    "for name in tqdm(small_volume_names):\n",
    "    folder1 = name.split('_')[0]\n",
    "    folder2 = name.split('_')[1]\n",
    "    folder = folder1 + '_' + folder2\n",
    "    folder3 = name.split('_')[2]\n",
    "    subfolder = folder + '_' + folder3\n",
    "    subfolder = os.path.join(directory_name, folder, subfolder)\n",
    "\n",
    "    hf_hub_download(repo_id=repo_id,\n",
    "                    repo_type='dataset',\n",
    "                    token=hf_token,\n",
    "                    subfolder=subfolder,\n",
    "                    filename=name,\n",
    "                    cache_dir='./',\n",
    "                    local_dir=local_data_dir,\n",
    "                    local_dir_use_symlinks=False,\n",
    "                    resume_download=True,\n",
    "                    force_download=True  # Added to force re-download\n",
    "                    )\n",
    "\n",
    "shutil.rmtree('./datasets--ibrahimhamamci--CT-RATE', ignore_errors=True)"
   ]
  },
  {
   "cell_type": "code",
   "execution_count": null,
   "metadata": {},
   "outputs": [
    {
     "name": "stderr",
     "output_type": "stream",
     "text": [
      "\r",
      "  0%|          | 0/20 [00:00<?, ?it/s]"
     ]
    },
    {
     "data": {
      "application/vnd.jupyter.widget-view+json": {
       "model_id": "8cb80b17d5ce4fd3899c26ab47bb167a",
       "version_major": 2,
       "version_minor": 0
      },
      "text/plain": [
       "dataset/valid/valid_1246/valid_1246_a/va(…):   0%|          | 0.00/144M [00:00<?, ?B/s]"
      ]
     },
     "metadata": {},
     "output_type": "display_data"
    },
    {
     "name": "stderr",
     "output_type": "stream",
     "text": [
      "\r",
      "  5%|▌         | 1/20 [00:03<00:58,  3.09s/it]"
     ]
    },
    {
     "data": {
      "application/vnd.jupyter.widget-view+json": {
       "model_id": "219661e0591b41d7b143522396d8dbc6",
       "version_major": 2,
       "version_minor": 0
      },
      "text/plain": [
       "dataset/valid/valid_331/valid_331_e/vali(…):   0%|          | 0.00/153M [00:00<?, ?B/s]"
      ]
     },
     "metadata": {},
     "output_type": "display_data"
    },
    {
     "name": "stderr",
     "output_type": "stream",
     "text": [
      "\r",
      " 10%|█         | 2/20 [00:06<00:56,  3.15s/it]"
     ]
    },
    {
     "data": {
      "application/vnd.jupyter.widget-view+json": {
       "model_id": "eb8a92fe5dd445329a1d010288dc1095",
       "version_major": 2,
       "version_minor": 0
      },
      "text/plain": [
       "dataset/valid/valid_331/valid_331_d/vali(…):   0%|          | 0.00/171M [00:00<?, ?B/s]"
      ]
     },
     "metadata": {},
     "output_type": "display_data"
    },
    {
     "name": "stderr",
     "output_type": "stream",
     "text": [
      "\r",
      " 15%|█▌        | 3/20 [00:12<01:14,  4.37s/it]"
     ]
    },
    {
     "data": {
      "application/vnd.jupyter.widget-view+json": {
       "model_id": "332c54d043cf4970b602c477356b6ed0",
       "version_major": 2,
       "version_minor": 0
      },
      "text/plain": [
       "dataset/valid/valid_44/valid_44_a/valid_(…):   0%|          | 0.00/122M [00:00<?, ?B/s]"
      ]
     },
     "metadata": {},
     "output_type": "display_data"
    },
    {
     "name": "stderr",
     "output_type": "stream",
     "text": [
      "\r",
      " 20%|██        | 4/20 [00:14<01:00,  3.76s/it]"
     ]
    },
    {
     "data": {
      "application/vnd.jupyter.widget-view+json": {
       "model_id": "141466faadf440e6878d39218a5c8beb",
       "version_major": 2,
       "version_minor": 0
      },
      "text/plain": [
       "dataset/valid/valid_218/valid_218_a/vali(…):   0%|          | 0.00/545M [00:00<?, ?B/s]"
      ]
     },
     "metadata": {},
     "output_type": "display_data"
    },
    {
     "name": "stderr",
     "output_type": "stream",
     "text": [
      "\r",
      " 25%|██▌       | 5/20 [00:25<01:31,  6.10s/it]"
     ]
    },
    {
     "data": {
      "application/vnd.jupyter.widget-view+json": {
       "model_id": "a5e7e386d9884672bbdb5f6ccd02ce35",
       "version_major": 2,
       "version_minor": 0
      },
      "text/plain": [
       "dataset/valid/valid_64/valid_64_a/valid_(…):   0%|          | 0.00/290M [00:00<?, ?B/s]"
      ]
     },
     "metadata": {},
     "output_type": "display_data"
    },
    {
     "name": "stderr",
     "output_type": "stream",
     "text": [
      "\r",
      " 30%|███       | 6/20 [00:29<01:17,  5.51s/it]"
     ]
    },
    {
     "data": {
      "application/vnd.jupyter.widget-view+json": {
       "model_id": "cb12c835b14c43f389a5c4da57d5f2f9",
       "version_major": 2,
       "version_minor": 0
      },
      "text/plain": [
       "dataset/valid/valid_435/valid_435_a/vali(…):   0%|          | 0.00/236M [00:00<?, ?B/s]"
      ]
     },
     "metadata": {},
     "output_type": "display_data"
    },
    {
     "name": "stderr",
     "output_type": "stream",
     "text": [
      "\r",
      " 35%|███▌      | 7/20 [00:37<01:21,  6.26s/it]"
     ]
    },
    {
     "data": {
      "application/vnd.jupyter.widget-view+json": {
       "model_id": "5cc37ffa31294b1e958e906b38e4b3c5",
       "version_major": 2,
       "version_minor": 0
      },
      "text/plain": [
       "dataset/valid/valid_638/valid_638_a/vali(…):   0%|          | 0.00/196M [00:00<?, ?B/s]"
      ]
     },
     "metadata": {},
     "output_type": "display_data"
    },
    {
     "name": "stderr",
     "output_type": "stream",
     "text": [
      "\r",
      " 40%|████      | 8/20 [00:43<01:14,  6.25s/it]"
     ]
    },
    {
     "data": {
      "application/vnd.jupyter.widget-view+json": {
       "model_id": "ebcf04d8b91a4905b6ea751c12491ce3",
       "version_major": 2,
       "version_minor": 0
      },
      "text/plain": [
       "dataset/valid/valid_41/valid_41_b/valid_(…):   0%|          | 0.00/84.0M [00:00<?, ?B/s]"
      ]
     },
     "metadata": {},
     "output_type": "display_data"
    },
    {
     "name": "stderr",
     "output_type": "stream",
     "text": [
      "\r",
      " 45%|████▌     | 9/20 [00:46<00:56,  5.17s/it]"
     ]
    },
    {
     "data": {
      "application/vnd.jupyter.widget-view+json": {
       "model_id": "a024ddf62f4f4a69bee22bcb4e9e6a3d",
       "version_major": 2,
       "version_minor": 0
      },
      "text/plain": [
       "dataset/valid/valid_1250/valid_1250_a/va(…):   0%|          | 0.00/212M [00:00<?, ?B/s]"
      ]
     },
     "metadata": {},
     "output_type": "display_data"
    },
    {
     "name": "stderr",
     "output_type": "stream",
     "text": [
      "\r",
      " 50%|█████     | 10/20 [00:53<00:56,  5.68s/it]"
     ]
    },
    {
     "data": {
      "application/vnd.jupyter.widget-view+json": {
       "model_id": "206e14e19b534aa38ca0e0d5703e987c",
       "version_major": 2,
       "version_minor": 0
      },
      "text/plain": [
       "dataset/valid/valid_296/valid_296_a/vali(…):   0%|          | 0.00/212M [00:00<?, ?B/s]"
      ]
     },
     "metadata": {},
     "output_type": "display_data"
    },
    {
     "name": "stderr",
     "output_type": "stream",
     "text": [
      "\r",
      " 55%|█████▌    | 11/20 [00:57<00:46,  5.16s/it]"
     ]
    },
    {
     "data": {
      "application/vnd.jupyter.widget-view+json": {
       "model_id": "cfb6ae6952834cb6987390102fe58965",
       "version_major": 2,
       "version_minor": 0
      },
      "text/plain": [
       "dataset/valid/valid_19/valid_19_a/valid_(…):   0%|          | 0.00/255M [00:00<?, ?B/s]"
      ]
     },
     "metadata": {},
     "output_type": "display_data"
    },
    {
     "name": "stderr",
     "output_type": "stream",
     "text": [
      "\r",
      " 60%|██████    | 12/20 [01:04<00:45,  5.68s/it]"
     ]
    },
    {
     "data": {
      "application/vnd.jupyter.widget-view+json": {
       "model_id": "797fba12674145b3a1fbc574082a9070",
       "version_major": 2,
       "version_minor": 0
      },
      "text/plain": [
       "dataset/valid/valid_64/valid_64_b/valid_(…):   0%|          | 0.00/121M [00:00<?, ?B/s]"
      ]
     },
     "metadata": {},
     "output_type": "display_data"
    },
    {
     "name": "stderr",
     "output_type": "stream",
     "text": [
      "\r",
      " 65%|██████▌   | 13/20 [01:06<00:33,  4.85s/it]"
     ]
    },
    {
     "data": {
      "application/vnd.jupyter.widget-view+json": {
       "model_id": "352d0c00171e442bb1d553197894942b",
       "version_major": 2,
       "version_minor": 0
      },
      "text/plain": [
       "dataset/valid/valid_652/valid_652_a/vali(…):   0%|          | 0.00/208M [00:00<?, ?B/s]"
      ]
     },
     "metadata": {},
     "output_type": "display_data"
    },
    {
     "name": "stderr",
     "output_type": "stream",
     "text": [
      "\r",
      " 70%|███████   | 14/20 [01:13<00:32,  5.41s/it]"
     ]
    },
    {
     "data": {
      "application/vnd.jupyter.widget-view+json": {
       "model_id": "f128924b119c4d599f12fcecc2d83131",
       "version_major": 2,
       "version_minor": 0
      },
      "text/plain": [
       "dataset/valid/valid_495/valid_495_a/vali(…):   0%|          | 0.00/218M [00:00<?, ?B/s]"
      ]
     },
     "metadata": {},
     "output_type": "display_data"
    },
    {
     "name": "stderr",
     "output_type": "stream",
     "text": [
      "\r",
      " 75%|███████▌  | 15/20 [01:18<00:25,  5.17s/it]"
     ]
    },
    {
     "data": {
      "application/vnd.jupyter.widget-view+json": {
       "model_id": "68bc726aa6e5479ab5bae9651fb88b9f",
       "version_major": 2,
       "version_minor": 0
      },
      "text/plain": [
       "dataset/valid/valid_1115/valid_1115_a/va(…):   0%|          | 0.00/263M [00:00<?, ?B/s]"
      ]
     },
     "metadata": {},
     "output_type": "display_data"
    },
    {
     "name": "stderr",
     "output_type": "stream",
     "text": [
      "\r",
      " 80%|████████  | 16/20 [01:24<00:22,  5.53s/it]"
     ]
    },
    {
     "data": {
      "application/vnd.jupyter.widget-view+json": {
       "model_id": "4b54a943b6614c379d23e198558ad153",
       "version_major": 2,
       "version_minor": 0
      },
      "text/plain": [
       "dataset/valid/valid_27/valid_27_a/valid_(…):   0%|          | 0.00/143M [00:00<?, ?B/s]"
      ]
     },
     "metadata": {},
     "output_type": "display_data"
    },
    {
     "name": "stderr",
     "output_type": "stream",
     "text": [
      "\r",
      " 85%|████████▌ | 17/20 [01:30<00:16,  5.50s/it]"
     ]
    },
    {
     "data": {
      "application/vnd.jupyter.widget-view+json": {
       "model_id": "8e845bdb02084254a2b9af667da82c85",
       "version_major": 2,
       "version_minor": 0
      },
      "text/plain": [
       "dataset/valid/valid_841/valid_841_a/vali(…):   0%|          | 0.00/229M [00:00<?, ?B/s]"
      ]
     },
     "metadata": {},
     "output_type": "display_data"
    },
    {
     "name": "stderr",
     "output_type": "stream",
     "text": [
      "\r",
      " 90%|█████████ | 18/20 [01:36<00:11,  5.63s/it]"
     ]
    },
    {
     "data": {
      "application/vnd.jupyter.widget-view+json": {
       "model_id": "6fdd25e605764178aacb41c92c141ca2",
       "version_major": 2,
       "version_minor": 0
      },
      "text/plain": [
       "dataset/valid/valid_595/valid_595_a/vali(…):   0%|          | 0.00/242M [00:00<?, ?B/s]"
      ]
     },
     "metadata": {},
     "output_type": "display_data"
    },
    {
     "name": "stderr",
     "output_type": "stream",
     "text": [
      "\r",
      " 95%|█████████▌| 19/20 [01:42<00:05,  5.87s/it]"
     ]
    },
    {
     "data": {
      "application/vnd.jupyter.widget-view+json": {
       "model_id": "a1aa5b6332044c1290707fe841b8db2e",
       "version_major": 2,
       "version_minor": 0
      },
      "text/plain": [
       "dataset/valid/valid_413/valid_413_a/vali(…):   0%|          | 0.00/153M [00:00<?, ?B/s]"
      ]
     },
     "metadata": {},
     "output_type": "display_data"
    },
    {
     "name": "stderr",
     "output_type": "stream",
     "text": [
      "100%|██████████| 20/20 [01:45<00:00,  5.28s/it]\n"
     ]
    }
   ],
   "source": [
    "import shutil\n",
    "import pandas as pd\n",
    "from huggingface_hub import hf_hub_download\n",
    "from tqdm import tqdm\n",
    "import os\n",
    "\n",
    "repo_id = 'ibrahimhamamci/CT-RATE'\n",
    "directory_name = 'dataset/valid/'  # adjust if needed\n",
    "hf_token = ''   # replace with your actual token\n",
    "local_data_dir = 'data_volumes'    # folder to save volumes\n",
    "\n",
    "# Get volume names from your small_train dataset\n",
    "small_volume_names = [item['VolumeName'] for item in small_valid]\n",
    "\n",
    "for name in tqdm(small_volume_names):\n",
    "    folder1 = name.split('_')[0]\n",
    "    folder2 = name.split('_')[1]\n",
    "    folder = folder1 + '_' + folder2\n",
    "    folder3 = name.split('_')[2]\n",
    "    subfolder = folder + '_' + folder3\n",
    "    subfolder = os.path.join(directory_name, folder, subfolder)\n",
    "\n",
    "    hf_hub_download(repo_id=repo_id,\n",
    "                    repo_type='dataset',\n",
    "                    token=hf_token,\n",
    "                    subfolder=subfolder,\n",
    "                    filename=name,\n",
    "                    cache_dir='./',\n",
    "                    local_dir=local_data_dir,\n",
    "                    local_dir_use_symlinks=False,\n",
    "                    resume_download=True,\n",
    "                    )\n",
    "\n",
    "shutil.rmtree('./datasets--ibrahimhamamci--CT-RATE', ignore_errors=True)\n"
   ]
  },
  {
   "cell_type": "code",
   "execution_count": null,
   "metadata": {},
   "outputs": [],
   "source": [
    "import nibabel as nib\n",
    "import numpy as np\n",
    "\n",
    "def volume_nii_loader(path):\n",
    "\n",
    "  # Load NIfTI image from file\n",
    "  img = nib.load(path)\n",
    "\n",
    "  vol = img.get_fdata(dtype = np.float32)\n",
    "\n",
    "  return vol"
   ]
  },
  {
   "cell_type": "code",
   "execution_count": null,
   "metadata": {},
   "outputs": [],
   "source": [
    "test_path = 'data_volumes/dataset/train/train_10032/train_10032_a/train_10032_a_1.nii.gz'\n",
    "\n",
    "test_vol = nib.load(test_path)"
   ]
  },
  {
   "cell_type": "code",
   "execution_count": null,
   "metadata": {},
   "outputs": [
    {
     "data": {
      "text/plain": [
       "(768, 768, 236)"
      ]
     },
     "execution_count": 10,
     "metadata": {},
     "output_type": "execute_result"
    }
   ],
   "source": [
    "test_vol.shape"
   ]
  },
  {
   "cell_type": "code",
   "execution_count": null,
   "metadata": {},
   "outputs": [],
   "source": [
    "label_names = small_train.column_names\n"
   ]
  },
  {
   "cell_type": "markdown",
   "metadata": {
    "id": "gOYA8p42Y6_f"
   },
   "source": []
  },
  {
   "cell_type": "code",
   "execution_count": null,
   "metadata": {},
   "outputs": [],
   "source": [
    "label_names.remove('VolumeName')"
   ]
  },
  {
   "cell_type": "code",
   "execution_count": null,
   "metadata": {},
   "outputs": [
    {
     "data": {
      "text/plain": [
       "['Medical material',\n",
       " 'Arterial wall calcification',\n",
       " 'Cardiomegaly',\n",
       " 'Pericardial effusion',\n",
       " 'Coronary artery wall calcification',\n",
       " 'Hiatal hernia',\n",
       " 'Lymphadenopathy',\n",
       " 'Emphysema',\n",
       " 'Atelectasis',\n",
       " 'Lung nodule',\n",
       " 'Lung opacity',\n",
       " 'Pulmonary fibrotic sequela',\n",
       " 'Pleural effusion',\n",
       " 'Mosaic attenuation pattern',\n",
       " 'Peribronchial thickening',\n",
       " 'Consolidation',\n",
       " 'Bronchiectasis',\n",
       " 'Interlobular septal thickening']"
      ]
     },
     "execution_count": 13,
     "metadata": {},
     "output_type": "execute_result"
    }
   ],
   "source": [
    "label_names"
   ]
  },
  {
   "cell_type": "code",
   "execution_count": null,
   "metadata": {},
   "outputs": [],
   "source": [
    "labels = [[row[col] for col in label_names] for row in small_train]\n"
   ]
  },
  {
   "cell_type": "code",
   "execution_count": null,
   "metadata": {},
   "outputs": [],
   "source": [
    "file_paths_train = []\n",
    "\n",
    "paths = ''\n",
    "file_names_test =  []\n",
    "\n",
    "for vol_names in small_train['VolumeName']:\n",
    "  dir_1 = 'data_volumes/'\n",
    "  dir_2 = 'dataset/'\n",
    "  dir_3 = 'train/'\n",
    "\n",
    "  dir_4 = vol_names.split('_')[0]\n",
    "  dir_5 = vol_names.split('_')[1]\n",
    "\n",
    "  dir_6 = vol_names.split('_')[0]\n",
    "  dir_7 = vol_names.split('_')[1]\n",
    "  dir_8 = vol_names.split('_')[2]\n",
    "  dir_9 = vol_names.split('_')[3]\n",
    "\n",
    "  path = dir_1 + dir_2 + dir_3 + dir_4 + '_' + dir_5 + '/' + dir_6 + '_' + dir_7 + '_' + dir_8 + '/' + dir_6 + '_' + dir_7 + '_' + dir_8 + '_' + dir_9\n",
    "\n",
    "  file_name = dir_6 + '_' + dir_7 + '_' + dir_8 + '_' + dir_9\n",
    "\n",
    "  file_names_test.append(file_name)\n",
    "\n",
    "  file_paths_train.append(path)\n",
    "\n",
    "\n"
   ]
  },
  {
   "cell_type": "code",
   "execution_count": null,
   "metadata": {},
   "outputs": [
    {
     "data": {
      "application/vnd.google.colaboratory.intrinsic+json": {
       "type": "string"
      },
      "text/plain": [
       "'data_volumes/dataset/train/train_11074/train_11074_a/train_11074_a_1.nii.gz'"
      ]
     },
     "execution_count": 16,
     "metadata": {},
     "output_type": "execute_result"
    }
   ],
   "source": [
    "file_paths_train[99]"
   ]
  },
  {
   "cell_type": "code",
   "execution_count": null,
   "metadata": {},
   "outputs": [
    {
     "data": {
      "application/vnd.google.colaboratory.intrinsic+json": {
       "type": "string"
      },
      "text/plain": [
       "'train_11074_a_1.nii.gz'"
      ]
     },
     "execution_count": 17,
     "metadata": {},
     "output_type": "execute_result"
    }
   ],
   "source": [
    "small_train['VolumeName'][99]"
   ]
  },
  {
   "cell_type": "code",
   "execution_count": null,
   "metadata": {},
   "outputs": [],
   "source": [
    "j = 0\n",
    "for i in range(100):\n",
    "  if(small_train['VolumeName'][i] != file_names_test[i]):\n",
    "    print(f'Index at mismatch is {i}')\n",
    "  if(small_train['VolumeName'][i] == file_names_test[i]):\n",
    "    j = j + 1\n"
   ]
  },
  {
   "cell_type": "code",
   "execution_count": null,
   "metadata": {},
   "outputs": [
    {
     "data": {
      "text/plain": [
       "100"
      ]
     },
     "execution_count": 19,
     "metadata": {},
     "output_type": "execute_result"
    }
   ],
   "source": [
    "j"
   ]
  },
  {
   "cell_type": "code",
   "execution_count": null,
   "metadata": {},
   "outputs": [
    {
     "data": {
      "text/plain": [
       "[0, 0, 0, 0, 0, 0, 0, 0, 0, 0, 1, 0, 0, 0, 0, 0, 1, 0]"
      ]
     },
     "execution_count": 20,
     "metadata": {},
     "output_type": "execute_result"
    }
   ],
   "source": [
    "labels[99]"
   ]
  },
  {
   "cell_type": "code",
   "execution_count": null,
   "metadata": {},
   "outputs": [
    {
     "data": {
      "text/plain": [
       "{'VolumeName': 'train_11074_a_1.nii.gz',\n",
       " 'Medical material': 0,\n",
       " 'Arterial wall calcification': 0,\n",
       " 'Cardiomegaly': 0,\n",
       " 'Pericardial effusion': 0,\n",
       " 'Coronary artery wall calcification': 0,\n",
       " 'Hiatal hernia': 0,\n",
       " 'Lymphadenopathy': 0,\n",
       " 'Emphysema': 0,\n",
       " 'Atelectasis': 0,\n",
       " 'Lung nodule': 0,\n",
       " 'Lung opacity': 1,\n",
       " 'Pulmonary fibrotic sequela': 0,\n",
       " 'Pleural effusion': 0,\n",
       " 'Mosaic attenuation pattern': 0,\n",
       " 'Peribronchial thickening': 0,\n",
       " 'Consolidation': 0,\n",
       " 'Bronchiectasis': 1,\n",
       " 'Interlobular septal thickening': 0}"
      ]
     },
     "execution_count": 21,
     "metadata": {},
     "output_type": "execute_result"
    }
   ],
   "source": [
    "small_train[99]"
   ]
  },
  {
   "cell_type": "code",
   "execution_count": null,
   "metadata": {},
   "outputs": [],
   "source": [
    "file_paths_valid = []\n",
    "\n",
    "paths = ''\n",
    "file_names_valid =  []\n",
    "\n",
    "for vol_names in small_valid['VolumeName']:\n",
    "  dir_1 = 'data_volumes/'\n",
    "  dir_2 = 'dataset/'\n",
    "  dir_3 = 'valid/'\n",
    "\n",
    "  dir_4 = vol_names.split('_')[0]\n",
    "  dir_5 = vol_names.split('_')[1]\n",
    "\n",
    "  dir_6 = vol_names.split('_')[0]\n",
    "  dir_7 = vol_names.split('_')[1]\n",
    "  dir_8 = vol_names.split('_')[2]\n",
    "  dir_9 = vol_names.split('_')[3]\n",
    "\n",
    "  path = dir_1 + dir_2 + dir_3 + dir_4 + '_' + dir_5 + '/' + dir_6 + '_' + dir_7 + '_' + dir_8 + '/' + dir_6 + '_' + dir_7 + '_' + dir_8 + '_' + dir_9\n",
    "\n",
    "  file_name = dir_6 + '_' + dir_7 + '_' + dir_8 + '_' + dir_9\n",
    "\n",
    "  file_names_valid.append(file_name)\n",
    "\n",
    "  file_paths_valid.append(path)\n"
   ]
  },
  {
   "cell_type": "code",
   "execution_count": null,
   "metadata": {},
   "outputs": [],
   "source": [
    "k = 0\n",
    "for i in range(20):\n",
    "  if(small_valid['VolumeName'][i] != file_names_valid[i]):\n",
    "    print(f'Index at mismatch is {i}')\n",
    "  if(small_valid['VolumeName'][i] == file_names_valid[i]):\n",
    "    k = k + 1"
   ]
  },
  {
   "cell_type": "code",
   "execution_count": null,
   "metadata": {},
   "outputs": [
    {
     "data": {
      "text/plain": [
       "20"
      ]
     },
     "execution_count": 24,
     "metadata": {},
     "output_type": "execute_result"
    }
   ],
   "source": [
    "k"
   ]
  },
  {
   "cell_type": "code",
   "execution_count": null,
   "metadata": {},
   "outputs": [
    {
     "data": {
      "application/vnd.google.colaboratory.intrinsic+json": {
       "type": "string"
      },
      "text/plain": [
       "'data_volumes/dataset/valid/valid_331/valid_331_d/valid_331_d_1.nii.gz'"
      ]
     },
     "execution_count": 25,
     "metadata": {},
     "output_type": "execute_result"
    }
   ],
   "source": [
    "file_paths_valid[2]"
   ]
  },
  {
   "cell_type": "code",
   "execution_count": null,
   "metadata": {},
   "outputs": [
    {
     "data": {
      "application/vnd.google.colaboratory.intrinsic+json": {
       "type": "string"
      },
      "text/plain": [
       "'valid_331_d_1.nii.gz'"
      ]
     },
     "execution_count": 26,
     "metadata": {},
     "output_type": "execute_result"
    }
   ],
   "source": [
    "small_valid['VolumeName'][2]"
   ]
  },
  {
   "cell_type": "code",
   "execution_count": null,
   "metadata": {},
   "outputs": [],
   "source": [
    "labels_names_valid = small_valid.column_names"
   ]
  },
  {
   "cell_type": "code",
   "execution_count": null,
   "metadata": {},
   "outputs": [],
   "source": [
    "labels_names_valid.remove('VolumeName')"
   ]
  },
  {
   "cell_type": "code",
   "execution_count": null,
   "metadata": {},
   "outputs": [
    {
     "data": {
      "text/plain": [
       "['Medical material',\n",
       " 'Arterial wall calcification',\n",
       " 'Cardiomegaly',\n",
       " 'Pericardial effusion',\n",
       " 'Coronary artery wall calcification',\n",
       " 'Hiatal hernia',\n",
       " 'Lymphadenopathy',\n",
       " 'Emphysema',\n",
       " 'Atelectasis',\n",
       " 'Lung nodule',\n",
       " 'Lung opacity',\n",
       " 'Pulmonary fibrotic sequela',\n",
       " 'Pleural effusion',\n",
       " 'Mosaic attenuation pattern',\n",
       " 'Peribronchial thickening',\n",
       " 'Consolidation',\n",
       " 'Bronchiectasis',\n",
       " 'Interlobular septal thickening']"
      ]
     },
     "execution_count": 29,
     "metadata": {},
     "output_type": "execute_result"
    }
   ],
   "source": [
    "labels_names_valid"
   ]
  },
  {
   "cell_type": "code",
   "execution_count": null,
   "metadata": {},
   "outputs": [],
   "source": [
    "labels_valid = []\n",
    "for row in small_valid:\n",
    "  row_labels = []\n",
    "  for col in labels_names_valid:\n",
    "    row_labels.append(row[col])\n",
    "\n",
    "  labels_valid.append(row_labels)"
   ]
  },
  {
   "cell_type": "code",
   "execution_count": null,
   "metadata": {},
   "outputs": [
    {
     "data": {
      "text/plain": [
       "[[0, 1, 0, 0, 1, 1, 0, 0, 0, 1, 0, 0, 0, 0, 0, 0, 0, 0],\n",
       " [0, 1, 0, 0, 1, 0, 0, 1, 0, 1, 1, 0, 0, 0, 1, 0, 0, 0],\n",
       " [0, 0, 0, 0, 0, 0, 1, 1, 0, 1, 1, 1, 0, 0, 1, 0, 0, 0],\n",
       " [0, 1, 1, 0, 1, 0, 0, 1, 1, 0, 1, 0, 1, 0, 0, 1, 0, 0],\n",
       " [0, 0, 0, 0, 0, 0, 0, 0, 0, 1, 1, 0, 0, 0, 0, 1, 0, 0],\n",
       " [0, 0, 0, 0, 0, 0, 0, 0, 1, 0, 0, 0, 0, 0, 0, 0, 0, 0],\n",
       " [0, 0, 0, 0, 0, 0, 0, 0, 0, 0, 1, 0, 0, 0, 0, 1, 0, 0],\n",
       " [0, 0, 0, 0, 0, 0, 0, 0, 0, 0, 0, 1, 0, 0, 0, 0, 0, 0],\n",
       " [0, 0, 0, 0, 0, 0, 0, 0, 0, 0, 1, 0, 0, 0, 0, 0, 0, 0],\n",
       " [0, 0, 0, 0, 0, 1, 1, 0, 0, 0, 1, 1, 0, 0, 1, 1, 1, 0],\n",
       " [0, 0, 0, 0, 0, 0, 0, 0, 0, 1, 0, 0, 0, 0, 0, 0, 0, 0],\n",
       " [0, 0, 0, 0, 0, 0, 0, 0, 1, 1, 0, 1, 1, 0, 0, 0, 0, 0],\n",
       " [0, 0, 0, 0, 0, 1, 0, 0, 1, 1, 0, 0, 0, 0, 0, 0, 0, 0],\n",
       " [0, 0, 0, 0, 0, 0, 1, 0, 0, 1, 0, 1, 0, 0, 0, 0, 0, 0],\n",
       " [0, 0, 0, 0, 0, 0, 1, 0, 0, 0, 1, 1, 0, 0, 0, 0, 0, 0],\n",
       " [0, 0, 0, 0, 0, 0, 0, 0, 0, 0, 0, 0, 0, 0, 0, 0, 0, 0],\n",
       " [0, 1, 1, 1, 0, 0, 1, 0, 1, 1, 0, 1, 1, 1, 0, 1, 0, 1],\n",
       " [1, 0, 0, 0, 0, 1, 0, 0, 0, 0, 0, 0, 1, 1, 0, 0, 0, 0],\n",
       " [1, 0, 0, 1, 1, 0, 1, 1, 0, 1, 0, 0, 0, 0, 0, 0, 0, 0],\n",
       " [0, 1, 0, 1, 1, 0, 1, 1, 0, 0, 1, 0, 1, 0, 1, 1, 1, 0]]"
      ]
     },
     "execution_count": 31,
     "metadata": {},
     "output_type": "execute_result"
    }
   ],
   "source": [
    "labels_valid"
   ]
  },
  {
   "cell_type": "code",
   "execution_count": null,
   "metadata": {},
   "outputs": [
    {
     "data": {
      "text/plain": [
       "{'VolumeName': 'valid_413_a_1.nii.gz',\n",
       " 'Medical material': 0,\n",
       " 'Arterial wall calcification': 1,\n",
       " 'Cardiomegaly': 0,\n",
       " 'Pericardial effusion': 1,\n",
       " 'Coronary artery wall calcification': 1,\n",
       " 'Hiatal hernia': 0,\n",
       " 'Lymphadenopathy': 1,\n",
       " 'Emphysema': 1,\n",
       " 'Atelectasis': 0,\n",
       " 'Lung nodule': 0,\n",
       " 'Lung opacity': 1,\n",
       " 'Pulmonary fibrotic sequela': 0,\n",
       " 'Pleural effusion': 1,\n",
       " 'Mosaic attenuation pattern': 0,\n",
       " 'Peribronchial thickening': 1,\n",
       " 'Consolidation': 1,\n",
       " 'Bronchiectasis': 1,\n",
       " 'Interlobular septal thickening': 0}"
      ]
     },
     "execution_count": 32,
     "metadata": {},
     "output_type": "execute_result"
    }
   ],
   "source": [
    "small_valid[19]"
   ]
  },
  {
   "cell_type": "code",
   "execution_count": null,
   "metadata": {},
   "outputs": [],
   "source": [
    "\n",
    "\n",
    "valid_labels = [[row[col] for col in labels_names_valid] for row in small_valid]"
   ]
  },
  {
   "cell_type": "code",
   "execution_count": null,
   "metadata": {},
   "outputs": [
    {
     "data": {
      "text/plain": [
       "[0, 1, 0, 0, 1, 0, 0, 1, 0, 1, 1, 0, 0, 0, 1, 0, 0, 0]"
      ]
     },
     "execution_count": 34,
     "metadata": {},
     "output_type": "execute_result"
    }
   ],
   "source": [
    "valid_labels[1]"
   ]
  },
  {
   "cell_type": "code",
   "execution_count": null,
   "metadata": {},
   "outputs": [
    {
     "data": {
      "text/plain": [
       "[0, 1, 0, 0, 1, 0, 0, 1, 0, 1, 1, 0, 0, 0, 1, 0, 0, 0]"
      ]
     },
     "execution_count": 35,
     "metadata": {},
     "output_type": "execute_result"
    }
   ],
   "source": [
    "labels_valid[1]"
   ]
  },
  {
   "cell_type": "code",
   "execution_count": null,
   "metadata": {},
   "outputs": [],
   "source": [
    "j = 0\n",
    "for i in range(20):\n",
    "  if(labels_valid[i] != valid_labels[i]):\n",
    "    print(f\"Index at mismatch is {i}\")\n",
    "  if(labels_valid[i] == valid_labels[i]):\n",
    "    j = j + 1"
   ]
  },
  {
   "cell_type": "code",
   "execution_count": null,
   "metadata": {},
   "outputs": [
    {
     "data": {
      "text/plain": [
       "20"
      ]
     },
     "execution_count": 37,
     "metadata": {},
     "output_type": "execute_result"
    }
   ],
   "source": [
    "j"
   ]
  },
  {
   "cell_type": "code",
   "execution_count": null,
   "metadata": {},
   "outputs": [
    {
     "name": "stdout",
     "output_type": "stream",
     "text": [
      "Collecting torchio\n",
      "  Downloading torchio-0.20.21-py3-none-any.whl.metadata (53 kB)\n",
      "\u001b[?25l     \u001b[90m━━━━━━━━━━━━━━━━━━━━━━━━━━━━━━━━━━━━━━━━\u001b[0m \u001b[32m0.0/53.1 kB\u001b[0m \u001b[31m?\u001b[0m eta \u001b[36m-:--:--\u001b[0m\r",
      "\u001b[2K     \u001b[90m━━━━━━━━━━━━━━━━━━━━━━━━━━━━━━━━━━━━━━━━\u001b[0m \u001b[32m53.1/53.1 kB\u001b[0m \u001b[31m3.9 MB/s\u001b[0m eta \u001b[36m0:00:00\u001b[0m\n",
      "\u001b[?25hCollecting deprecated>=1.2 (from torchio)\n",
      "  Downloading Deprecated-1.2.18-py2.py3-none-any.whl.metadata (5.7 kB)\n",
      "Requirement already satisfied: einops>=0.3 in /usr/local/lib/python3.12/dist-packages (from torchio) (0.8.1)\n",
      "Requirement already satisfied: humanize>=0.1 in /usr/local/lib/python3.12/dist-packages (from torchio) (4.13.0)\n",
      "Requirement already satisfied: nibabel>=3 in /usr/local/lib/python3.12/dist-packages (from torchio) (5.3.2)\n",
      "Requirement already satisfied: numpy>=1.20 in /usr/local/lib/python3.12/dist-packages (from torchio) (2.0.2)\n",
      "Requirement already satisfied: packaging>=20 in /usr/local/lib/python3.12/dist-packages (from torchio) (25.0)\n",
      "Requirement already satisfied: rich>=10 in /usr/local/lib/python3.12/dist-packages (from torchio) (13.9.4)\n",
      "Requirement already satisfied: scipy>=1.7 in /usr/local/lib/python3.12/dist-packages (from torchio) (1.16.1)\n",
      "Collecting simpleitk!=2.0.*,!=2.1.1.1,>=1.3 (from torchio)\n",
      "  Downloading simpleitk-2.5.2-cp311-abi3-manylinux2014_x86_64.manylinux_2_17_x86_64.whl.metadata (7.2 kB)\n",
      "Requirement already satisfied: torch>=1.9 in /usr/local/lib/python3.12/dist-packages (from torchio) (2.8.0+cu126)\n",
      "Requirement already satisfied: tqdm>=4.40 in /usr/local/lib/python3.12/dist-packages (from torchio) (4.67.1)\n",
      "Requirement already satisfied: typer>=0.1 in /usr/local/lib/python3.12/dist-packages (from torchio) (0.16.1)\n",
      "Requirement already satisfied: wrapt<2,>=1.10 in /usr/local/lib/python3.12/dist-packages (from deprecated>=1.2->torchio) (1.17.3)\n",
      "Requirement already satisfied: typing-extensions>=4.6 in /usr/local/lib/python3.12/dist-packages (from nibabel>=3->torchio) (4.15.0)\n",
      "Requirement already satisfied: markdown-it-py>=2.2.0 in /usr/local/lib/python3.12/dist-packages (from rich>=10->torchio) (4.0.0)\n",
      "Requirement already satisfied: pygments<3.0.0,>=2.13.0 in /usr/local/lib/python3.12/dist-packages (from rich>=10->torchio) (2.19.2)\n",
      "Requirement already satisfied: filelock in /usr/local/lib/python3.12/dist-packages (from torch>=1.9->torchio) (3.19.1)\n",
      "Requirement already satisfied: setuptools in /usr/local/lib/python3.12/dist-packages (from torch>=1.9->torchio) (75.2.0)\n",
      "Requirement already satisfied: sympy>=1.13.3 in /usr/local/lib/python3.12/dist-packages (from torch>=1.9->torchio) (1.13.3)\n",
      "Requirement already satisfied: networkx in /usr/local/lib/python3.12/dist-packages (from torch>=1.9->torchio) (3.5)\n",
      "Requirement already satisfied: jinja2 in /usr/local/lib/python3.12/dist-packages (from torch>=1.9->torchio) (3.1.6)\n",
      "Requirement already satisfied: fsspec in /usr/local/lib/python3.12/dist-packages (from torch>=1.9->torchio) (2025.3.0)\n",
      "Requirement already satisfied: nvidia-cuda-nvrtc-cu12==12.6.77 in /usr/local/lib/python3.12/dist-packages (from torch>=1.9->torchio) (12.6.77)\n",
      "Requirement already satisfied: nvidia-cuda-runtime-cu12==12.6.77 in /usr/local/lib/python3.12/dist-packages (from torch>=1.9->torchio) (12.6.77)\n",
      "Requirement already satisfied: nvidia-cuda-cupti-cu12==12.6.80 in /usr/local/lib/python3.12/dist-packages (from torch>=1.9->torchio) (12.6.80)\n",
      "Requirement already satisfied: nvidia-cudnn-cu12==9.10.2.21 in /usr/local/lib/python3.12/dist-packages (from torch>=1.9->torchio) (9.10.2.21)\n",
      "Requirement already satisfied: nvidia-cublas-cu12==12.6.4.1 in /usr/local/lib/python3.12/dist-packages (from torch>=1.9->torchio) (12.6.4.1)\n",
      "Requirement already satisfied: nvidia-cufft-cu12==11.3.0.4 in /usr/local/lib/python3.12/dist-packages (from torch>=1.9->torchio) (11.3.0.4)\n",
      "Requirement already satisfied: nvidia-curand-cu12==10.3.7.77 in /usr/local/lib/python3.12/dist-packages (from torch>=1.9->torchio) (10.3.7.77)\n",
      "Requirement already satisfied: nvidia-cusolver-cu12==11.7.1.2 in /usr/local/lib/python3.12/dist-packages (from torch>=1.9->torchio) (11.7.1.2)\n",
      "Requirement already satisfied: nvidia-cusparse-cu12==12.5.4.2 in /usr/local/lib/python3.12/dist-packages (from torch>=1.9->torchio) (12.5.4.2)\n",
      "Requirement already satisfied: nvidia-cusparselt-cu12==0.7.1 in /usr/local/lib/python3.12/dist-packages (from torch>=1.9->torchio) (0.7.1)\n",
      "Requirement already satisfied: nvidia-nccl-cu12==2.27.3 in /usr/local/lib/python3.12/dist-packages (from torch>=1.9->torchio) (2.27.3)\n",
      "Requirement already satisfied: nvidia-nvtx-cu12==12.6.77 in /usr/local/lib/python3.12/dist-packages (from torch>=1.9->torchio) (12.6.77)\n",
      "Requirement already satisfied: nvidia-nvjitlink-cu12==12.6.85 in /usr/local/lib/python3.12/dist-packages (from torch>=1.9->torchio) (12.6.85)\n",
      "Requirement already satisfied: nvidia-cufile-cu12==1.11.1.6 in /usr/local/lib/python3.12/dist-packages (from torch>=1.9->torchio) (1.11.1.6)\n",
      "Requirement already satisfied: triton==3.4.0 in /usr/local/lib/python3.12/dist-packages (from torch>=1.9->torchio) (3.4.0)\n",
      "Requirement already satisfied: click>=8.0.0 in /usr/local/lib/python3.12/dist-packages (from typer>=0.1->torchio) (8.2.1)\n",
      "Requirement already satisfied: shellingham>=1.3.0 in /usr/local/lib/python3.12/dist-packages (from typer>=0.1->torchio) (1.5.4)\n",
      "Requirement already satisfied: mdurl~=0.1 in /usr/local/lib/python3.12/dist-packages (from markdown-it-py>=2.2.0->rich>=10->torchio) (0.1.2)\n",
      "Requirement already satisfied: mpmath<1.4,>=1.1.0 in /usr/local/lib/python3.12/dist-packages (from sympy>=1.13.3->torch>=1.9->torchio) (1.3.0)\n",
      "Requirement already satisfied: MarkupSafe>=2.0 in /usr/local/lib/python3.12/dist-packages (from jinja2->torch>=1.9->torchio) (3.0.2)\n",
      "Downloading torchio-0.20.21-py3-none-any.whl (194 kB)\n",
      "\u001b[2K   \u001b[90m━━━━━━━━━━━━━━━━━━━━━━━━━━━━━━━━━━━━━━━━\u001b[0m \u001b[32m194.2/194.2 kB\u001b[0m \u001b[31m11.6 MB/s\u001b[0m eta \u001b[36m0:00:00\u001b[0m\n",
      "\u001b[?25hDownloading Deprecated-1.2.18-py2.py3-none-any.whl (10.0 kB)\n",
      "Downloading simpleitk-2.5.2-cp311-abi3-manylinux2014_x86_64.manylinux_2_17_x86_64.whl (52.6 MB)\n",
      "\u001b[2K   \u001b[90m━━━━━━━━━━━━━━━━━━━━━━━━━━━━━━━━━━━━━━━━\u001b[0m \u001b[32m52.6/52.6 MB\u001b[0m \u001b[31m15.0 MB/s\u001b[0m eta \u001b[36m0:00:00\u001b[0m\n",
      "\u001b[?25hInstalling collected packages: simpleitk, deprecated, torchio\n",
      "Successfully installed deprecated-1.2.18 simpleitk-2.5.2 torchio-0.20.21\n"
     ]
    }
   ],
   "source": [
    "!pip install torchio"
   ]
  },
  {
   "cell_type": "code",
   "execution_count": null,
   "metadata": {},
   "outputs": [
    {
     "data": {
      "text/plain": [
       "0.3315459091036326"
      ]
     },
     "execution_count": 40,
     "metadata": {},
     "output_type": "execute_result"
    }
   ],
   "source": [
    "np.random.random()"
   ]
  },
  {
   "cell_type": "code",
   "execution_count": null,
   "metadata": {},
   "outputs": [],
   "source": [
    "big_train_split = ds['train']"
   ]
  },
  {
   "cell_type": "code",
   "execution_count": null,
   "metadata": {},
   "outputs": [
    {
     "data": {
      "text/plain": [
       "['Medical material',\n",
       " 'Arterial wall calcification',\n",
       " 'Cardiomegaly',\n",
       " 'Pericardial effusion',\n",
       " 'Coronary artery wall calcification',\n",
       " 'Hiatal hernia',\n",
       " 'Lymphadenopathy',\n",
       " 'Emphysema',\n",
       " 'Atelectasis',\n",
       " 'Lung nodule',\n",
       " 'Lung opacity',\n",
       " 'Pulmonary fibrotic sequela',\n",
       " 'Pleural effusion',\n",
       " 'Mosaic attenuation pattern',\n",
       " 'Peribronchial thickening',\n",
       " 'Consolidation',\n",
       " 'Bronchiectasis',\n",
       " 'Interlobular septal thickening']"
      ]
     },
     "execution_count": 42,
     "metadata": {},
     "output_type": "execute_result"
    }
   ],
   "source": [
    "label_names"
   ]
  },
  {
   "cell_type": "code",
   "execution_count": null,
   "metadata": {},
   "outputs": [],
   "source": [
    "labels_np = np.array([[row[col] for col in label_names] for row in big_train_split])"
   ]
  },
  {
   "cell_type": "code",
   "execution_count": null,
   "metadata": {},
   "outputs": [
    {
     "data": {
      "text/plain": [
       "array([0, 0, 0, 0, 0, 1, 0, 0, 0, 0, 1, 0, 0, 0, 0, 1, 0, 0])"
      ]
     },
     "execution_count": 44,
     "metadata": {},
     "output_type": "execute_result"
    }
   ],
   "source": [
    "labels_np[200]"
   ]
  },
  {
   "cell_type": "code",
   "execution_count": null,
   "metadata": {},
   "outputs": [],
   "source": [
    "class_counts = labels_np.sum(axis = 0)"
   ]
  },
  {
   "cell_type": "code",
   "execution_count": null,
   "metadata": {},
   "outputs": [
    {
     "data": {
      "text/plain": [
       "array([ 5818, 13377,  5308,  3412, 12025,  6751, 12221,  9122, 12263,\n",
       "       21382, 17420, 12589,  5705,  3638,  4973,  8319,  4732,  3745])"
      ]
     },
     "execution_count": 46,
     "metadata": {},
     "output_type": "execute_result"
    }
   ],
   "source": [
    "class_counts"
   ]
  },
  {
   "cell_type": "code",
   "execution_count": null,
   "metadata": {},
   "outputs": [],
   "source": [
    "threshold = 6000\n",
    "\n",
    "rare_labels = np.where(class_counts < 6000)[0]"
   ]
  },
  {
   "cell_type": "code",
   "execution_count": null,
   "metadata": {},
   "outputs": [
    {
     "data": {
      "text/plain": [
       "array([ 0,  2,  3, 12, 13, 14, 16, 17])"
      ]
     },
     "execution_count": 48,
     "metadata": {},
     "output_type": "execute_result"
    }
   ],
   "source": [
    "rare_labels"
   ]
  },
  {
   "cell_type": "code",
   "execution_count": null,
   "metadata": {},
   "outputs": [
    {
     "data": {
      "text/plain": [
       "np.int64(12)"
      ]
     },
     "execution_count": 49,
     "metadata": {},
     "output_type": "execute_result"
    }
   ],
   "source": [
    "rare_labels[3]"
   ]
  },
  {
   "cell_type": "code",
   "execution_count": null,
   "metadata": {},
   "outputs": [],
   "source": [
    "class RandomApply:\n",
    "  def __init__(self, transform, p):\n",
    "    self.transform = transform\n",
    "    self.p = p\n",
    "\n",
    "  def __call__(self, x):\n",
    "    if np.random.random() < self.p:\n",
    "      return self.transform(x)\n",
    "    else:\n",
    "      return x"
   ]
  },
  {
   "cell_type": "code",
   "execution_count": null,
   "metadata": {},
   "outputs": [],
   "source": [
    "import torchio as tio\n",
    "\n",
    "train_transform = tio.Compose([\n",
    "    RandomApply(tio.RandomFlip(axes = (0,1,2), flip_probability = 0.5), p = 0.8),\n",
    "    RandomApply(tio.RandomAffine(scales = (0.9,1.1), degrees = 10, translation = 5), p = 0.8),\n",
    "    RandomApply(tio.RandomNoise(std = 0.01), p = 0.8),\n",
    "    RandomApply(tio.RandomBiasField(coefficients = 0.05), p = 0.8)\n",
    "\n",
    "])"
   ]
  },
  {
   "cell_type": "code",
   "execution_count": null,
   "metadata": {},
   "outputs": [],
   "source": [
    "import torch\n",
    "import torch.nn.functional as F\n",
    "\n",
    "class CT_Rate_dataset(torch.utils.data.Dataset):\n",
    "  def __init__(self, file_paths, labels, target_shape = (128, 128, 128), transform = train_transform):\n",
    "    self.paths = file_paths\n",
    "    self.labels = labels\n",
    "    self.target_shape = target_shape\n",
    "    self.transform = transform\n",
    "\n",
    "  def __len__(self):\n",
    "    return len(self.paths)\n",
    "\n",
    "  def __getitem__(self, ind):\n",
    "\n",
    "    vol = volume_nii_loader(self.paths[ind])\n",
    "\n",
    "    vol = torch.tensor(vol, dtype = torch.float32)\n",
    "\n",
    "    # add 2 dimensions\n",
    "    vol = vol.unsqueeze(0).unsqueeze(0)\n",
    "    vol = F.interpolate(vol, size = self.target_shape, mode = 'trilinear', align_corners = False)\n",
    "    vol = vol[0,0].unsqueeze(0)\n",
    "\n",
    "    # apply transforms if applicable\n",
    "    if (self.transform and any(self.labels[ind][i] == 1 for i in rare_labels)):\n",
    "        vol = self.transform(vol)\n",
    "\n",
    "    # normalize\n",
    "    vol = (vol - vol.mean()) / (vol.std() + 1e-8)\n",
    "\n",
    "\n",
    "    label = torch.tensor(self.labels[ind]).float()  # multi-label vector\n",
    "\n",
    "    return vol, label"
   ]
  },
  {
   "cell_type": "code",
   "execution_count": null,
   "metadata": {},
   "outputs": [],
   "source": [
    "training_dataset = CT_Rate_dataset(file_paths_train, labels, transform = train_transform)"
   ]
  },
  {
   "cell_type": "code",
   "execution_count": null,
   "metadata": {},
   "outputs": [],
   "source": [
    "valid_dataset = CT_Rate_dataset(file_paths_valid, labels_valid, transform = None)"
   ]
  },
  {
   "cell_type": "code",
   "execution_count": null,
   "metadata": {},
   "outputs": [],
   "source": [
    "from torch.utils.data import DataLoader\n",
    "\n",
    "train_loader = DataLoader(training_dataset, batch_size = 4, shuffle = True, num_workers = 1, pin_memory=True)\n",
    "valid_loader = DataLoader(valid_dataset, batch_size = 4, shuffle = False, num_workers = 1, pin_memory=True)"
   ]
  },
  {
   "cell_type": "code",
   "execution_count": null,
   "metadata": {},
   "outputs": [
    {
     "data": {
      "text/plain": [
       "5"
      ]
     },
     "execution_count": 56,
     "metadata": {},
     "output_type": "execute_result"
    }
   ],
   "source": [
    "len(valid_loader)"
   ]
  },
  {
   "cell_type": "code",
   "execution_count": null,
   "metadata": {},
   "outputs": [],
   "source": [
    "import numpy as np\n",
    "from PIL import Image\n",
    "import os\n",
    "\n",
    "import torch\n",
    "import torch.nn as nn\n",
    "import torch.nn.functional as F\n",
    "import torch.optim as optim\n",
    "\n",
    "import torchvision\n",
    "import numpy as np"
   ]
  },
  {
   "cell_type": "code",
   "execution_count": null,
   "metadata": {},
   "outputs": [],
   "source": [
    "import torchvision.models.video as models\n",
    "\n",
    "model = models.r3d_18(weights = None)"
   ]
  },
  {
   "cell_type": "code",
   "execution_count": null,
   "metadata": {},
   "outputs": [
    {
     "data": {
      "text/plain": [
       "VideoResNet(\n",
       "  (stem): BasicStem(\n",
       "    (0): Conv3d(3, 64, kernel_size=(3, 7, 7), stride=(1, 2, 2), padding=(1, 3, 3), bias=False)\n",
       "    (1): BatchNorm3d(64, eps=1e-05, momentum=0.1, affine=True, track_running_stats=True)\n",
       "    (2): ReLU(inplace=True)\n",
       "  )\n",
       "  (layer1): Sequential(\n",
       "    (0): BasicBlock(\n",
       "      (conv1): Sequential(\n",
       "        (0): Conv3DSimple(64, 64, kernel_size=(3, 3, 3), stride=(1, 1, 1), padding=(1, 1, 1), bias=False)\n",
       "        (1): BatchNorm3d(64, eps=1e-05, momentum=0.1, affine=True, track_running_stats=True)\n",
       "        (2): ReLU(inplace=True)\n",
       "      )\n",
       "      (conv2): Sequential(\n",
       "        (0): Conv3DSimple(64, 64, kernel_size=(3, 3, 3), stride=(1, 1, 1), padding=(1, 1, 1), bias=False)\n",
       "        (1): BatchNorm3d(64, eps=1e-05, momentum=0.1, affine=True, track_running_stats=True)\n",
       "      )\n",
       "      (relu): ReLU(inplace=True)\n",
       "    )\n",
       "    (1): BasicBlock(\n",
       "      (conv1): Sequential(\n",
       "        (0): Conv3DSimple(64, 64, kernel_size=(3, 3, 3), stride=(1, 1, 1), padding=(1, 1, 1), bias=False)\n",
       "        (1): BatchNorm3d(64, eps=1e-05, momentum=0.1, affine=True, track_running_stats=True)\n",
       "        (2): ReLU(inplace=True)\n",
       "      )\n",
       "      (conv2): Sequential(\n",
       "        (0): Conv3DSimple(64, 64, kernel_size=(3, 3, 3), stride=(1, 1, 1), padding=(1, 1, 1), bias=False)\n",
       "        (1): BatchNorm3d(64, eps=1e-05, momentum=0.1, affine=True, track_running_stats=True)\n",
       "      )\n",
       "      (relu): ReLU(inplace=True)\n",
       "    )\n",
       "  )\n",
       "  (layer2): Sequential(\n",
       "    (0): BasicBlock(\n",
       "      (conv1): Sequential(\n",
       "        (0): Conv3DSimple(64, 128, kernel_size=(3, 3, 3), stride=(2, 2, 2), padding=(1, 1, 1), bias=False)\n",
       "        (1): BatchNorm3d(128, eps=1e-05, momentum=0.1, affine=True, track_running_stats=True)\n",
       "        (2): ReLU(inplace=True)\n",
       "      )\n",
       "      (conv2): Sequential(\n",
       "        (0): Conv3DSimple(128, 128, kernel_size=(3, 3, 3), stride=(1, 1, 1), padding=(1, 1, 1), bias=False)\n",
       "        (1): BatchNorm3d(128, eps=1e-05, momentum=0.1, affine=True, track_running_stats=True)\n",
       "      )\n",
       "      (relu): ReLU(inplace=True)\n",
       "      (downsample): Sequential(\n",
       "        (0): Conv3d(64, 128, kernel_size=(1, 1, 1), stride=(2, 2, 2), bias=False)\n",
       "        (1): BatchNorm3d(128, eps=1e-05, momentum=0.1, affine=True, track_running_stats=True)\n",
       "      )\n",
       "    )\n",
       "    (1): BasicBlock(\n",
       "      (conv1): Sequential(\n",
       "        (0): Conv3DSimple(128, 128, kernel_size=(3, 3, 3), stride=(1, 1, 1), padding=(1, 1, 1), bias=False)\n",
       "        (1): BatchNorm3d(128, eps=1e-05, momentum=0.1, affine=True, track_running_stats=True)\n",
       "        (2): ReLU(inplace=True)\n",
       "      )\n",
       "      (conv2): Sequential(\n",
       "        (0): Conv3DSimple(128, 128, kernel_size=(3, 3, 3), stride=(1, 1, 1), padding=(1, 1, 1), bias=False)\n",
       "        (1): BatchNorm3d(128, eps=1e-05, momentum=0.1, affine=True, track_running_stats=True)\n",
       "      )\n",
       "      (relu): ReLU(inplace=True)\n",
       "    )\n",
       "  )\n",
       "  (layer3): Sequential(\n",
       "    (0): BasicBlock(\n",
       "      (conv1): Sequential(\n",
       "        (0): Conv3DSimple(128, 256, kernel_size=(3, 3, 3), stride=(2, 2, 2), padding=(1, 1, 1), bias=False)\n",
       "        (1): BatchNorm3d(256, eps=1e-05, momentum=0.1, affine=True, track_running_stats=True)\n",
       "        (2): ReLU(inplace=True)\n",
       "      )\n",
       "      (conv2): Sequential(\n",
       "        (0): Conv3DSimple(256, 256, kernel_size=(3, 3, 3), stride=(1, 1, 1), padding=(1, 1, 1), bias=False)\n",
       "        (1): BatchNorm3d(256, eps=1e-05, momentum=0.1, affine=True, track_running_stats=True)\n",
       "      )\n",
       "      (relu): ReLU(inplace=True)\n",
       "      (downsample): Sequential(\n",
       "        (0): Conv3d(128, 256, kernel_size=(1, 1, 1), stride=(2, 2, 2), bias=False)\n",
       "        (1): BatchNorm3d(256, eps=1e-05, momentum=0.1, affine=True, track_running_stats=True)\n",
       "      )\n",
       "    )\n",
       "    (1): BasicBlock(\n",
       "      (conv1): Sequential(\n",
       "        (0): Conv3DSimple(256, 256, kernel_size=(3, 3, 3), stride=(1, 1, 1), padding=(1, 1, 1), bias=False)\n",
       "        (1): BatchNorm3d(256, eps=1e-05, momentum=0.1, affine=True, track_running_stats=True)\n",
       "        (2): ReLU(inplace=True)\n",
       "      )\n",
       "      (conv2): Sequential(\n",
       "        (0): Conv3DSimple(256, 256, kernel_size=(3, 3, 3), stride=(1, 1, 1), padding=(1, 1, 1), bias=False)\n",
       "        (1): BatchNorm3d(256, eps=1e-05, momentum=0.1, affine=True, track_running_stats=True)\n",
       "      )\n",
       "      (relu): ReLU(inplace=True)\n",
       "    )\n",
       "  )\n",
       "  (layer4): Sequential(\n",
       "    (0): BasicBlock(\n",
       "      (conv1): Sequential(\n",
       "        (0): Conv3DSimple(256, 512, kernel_size=(3, 3, 3), stride=(2, 2, 2), padding=(1, 1, 1), bias=False)\n",
       "        (1): BatchNorm3d(512, eps=1e-05, momentum=0.1, affine=True, track_running_stats=True)\n",
       "        (2): ReLU(inplace=True)\n",
       "      )\n",
       "      (conv2): Sequential(\n",
       "        (0): Conv3DSimple(512, 512, kernel_size=(3, 3, 3), stride=(1, 1, 1), padding=(1, 1, 1), bias=False)\n",
       "        (1): BatchNorm3d(512, eps=1e-05, momentum=0.1, affine=True, track_running_stats=True)\n",
       "      )\n",
       "      (relu): ReLU(inplace=True)\n",
       "      (downsample): Sequential(\n",
       "        (0): Conv3d(256, 512, kernel_size=(1, 1, 1), stride=(2, 2, 2), bias=False)\n",
       "        (1): BatchNorm3d(512, eps=1e-05, momentum=0.1, affine=True, track_running_stats=True)\n",
       "      )\n",
       "    )\n",
       "    (1): BasicBlock(\n",
       "      (conv1): Sequential(\n",
       "        (0): Conv3DSimple(512, 512, kernel_size=(3, 3, 3), stride=(1, 1, 1), padding=(1, 1, 1), bias=False)\n",
       "        (1): BatchNorm3d(512, eps=1e-05, momentum=0.1, affine=True, track_running_stats=True)\n",
       "        (2): ReLU(inplace=True)\n",
       "      )\n",
       "      (conv2): Sequential(\n",
       "        (0): Conv3DSimple(512, 512, kernel_size=(3, 3, 3), stride=(1, 1, 1), padding=(1, 1, 1), bias=False)\n",
       "        (1): BatchNorm3d(512, eps=1e-05, momentum=0.1, affine=True, track_running_stats=True)\n",
       "      )\n",
       "      (relu): ReLU(inplace=True)\n",
       "    )\n",
       "  )\n",
       "  (avgpool): AdaptiveAvgPool3d(output_size=(1, 1, 1))\n",
       "  (fc): Linear(in_features=512, out_features=400, bias=True)\n",
       ")"
      ]
     },
     "execution_count": 59,
     "metadata": {},
     "output_type": "execute_result"
    }
   ],
   "source": [
    "model"
   ]
  },
  {
   "cell_type": "code",
   "execution_count": null,
   "metadata": {},
   "outputs": [],
   "source": [
    "model.stem[0] = nn.Conv3d(1, 64, kernel_size=(3, 7, 7), stride=(1, 2, 2), padding=(1, 3, 3), bias=False)"
   ]
  },
  {
   "cell_type": "code",
   "execution_count": null,
   "metadata": {},
   "outputs": [],
   "source": [
    "model.fc = nn.Linear(model.fc.in_features, out_features=18)"
   ]
  },
  {
   "cell_type": "code",
   "execution_count": null,
   "metadata": {},
   "outputs": [],
   "source": [
    "criterion = nn.BCEWithLogitsLoss()\n",
    "optimizer = optim.Adam(model.parameters(), lr = 1e-4)"
   ]
  },
  {
   "cell_type": "code",
   "execution_count": null,
   "metadata": {},
   "outputs": [],
   "source": [
    "device = torch.device(\"cuda\" if torch.cuda.is_available() else \"cpu\")\n",
    "model = model.to(device)"
   ]
  },
  {
   "cell_type": "code",
   "execution_count": null,
   "metadata": {},
   "outputs": [
    {
     "name": "stdout",
     "output_type": "stream",
     "text": [
      "GPU available: True\n",
      "GPU name: Tesla T4\n"
     ]
    }
   ],
   "source": [
    "gpu_available = torch.cuda.is_available()\n",
    "gpu_name = torch.cuda.get_device_name(0) if gpu_available else \"No GPU detected\"\n",
    "\n",
    "print(f\"GPU available: {gpu_available}\")\n",
    "print(f\"GPU name: {gpu_name}\")"
   ]
  },
  {
   "cell_type": "code",
   "execution_count": null,
   "metadata": {},
   "outputs": [],
   "source": [
    "class EarlyStopper:\n",
    "  def __init__(self, patience = 5, delta = 0.01):\n",
    "    self.patience = patience\n",
    "    self.delta = delta\n",
    "    self.count = 0\n",
    "    self.best_loss = None\n",
    "    self.stop_training = False\n",
    "\n",
    "  def check_early_stop(self, val_loss):\n",
    "    if self.best_loss == None or val_loss < self.best_loss - self.delta:\n",
    "      self.best_loss = val_loss\n",
    "      self.count = 0\n",
    "\n",
    "    else:\n",
    "      self.count += 1\n",
    "      if(self.count >= self.patience):\n",
    "        self.stop_training = True\n",
    "\n",
    "patience = 4\n",
    "delta = 0.01\n",
    "\n",
    "early_stop = EarlyStopper(patience = patience, delta = delta)\n",
    "\n"
   ]
  },
  {
   "cell_type": "code",
   "execution_count": null,
   "metadata": {},
   "outputs": [
    {
     "name": "stdout",
     "output_type": "stream",
     "text": [
      "Epoch: 0, Batch: 3, Training loss: 0.7136\n",
      "Epoch: 0, Batch: 6, Training loss: 0.6045\n",
      "Epoch: 0, Batch: 9, Training loss: 0.5043\n",
      "Epoch: 0, Batch: 12, Training loss: 0.4991\n",
      "Epoch: 0, Batch: 15, Training loss: 0.4009\n",
      "Epoch: 0, Batch: 18, Training loss: 0.5761\n",
      "Epoch: 0, Batch: 21, Training loss: 0.3755\n",
      "Epoch: 0, Batch: 24, Training loss: 0.6226\n",
      "Epoch: 0, Avg training loss: 0.5355 \n",
      "\n",
      "Epoch: 0, Batch: 1, Validation loss: 0.6727\n",
      "Epoch: 0, Batch: 2, Validation loss: 0.3771\n",
      "Epoch: 0, Batch: 3, Validation loss: 0.4322\n",
      "Epoch: 0, Batch: 4, Validation loss: 0.3885\n",
      "Epoch: 0, Batch: 5, Validation loss: 0.9679\n",
      "Epoch: 0, Avg validation loss: 0.5677\n",
      "Epoch: 0, Validation F1 score: 0.0899 \n",
      "\n",
      "Epoch: 0, F1 score for label 0: 0.0000\n",
      "Epoch: 0, F1 score for label 1: 0.0000\n",
      "Epoch: 0, F1 score for label 2: 0.0000\n",
      "Epoch: 0, F1 score for label 3: 0.0000\n",
      "Epoch: 0, F1 score for label 4: 0.0000\n",
      "Epoch: 0, F1 score for label 5: 0.0000\n",
      "Epoch: 0, F1 score for label 6: 0.0000\n",
      "Epoch: 0, F1 score for label 7: 0.0000\n",
      "Epoch: 0, F1 score for label 8: 0.0000\n",
      "Epoch: 0, F1 score for label 9: 0.5333\n",
      "Epoch: 0, F1 score for label 10: 0.0000\n",
      "Epoch: 0, F1 score for label 11: 0.0000\n",
      "Epoch: 0, F1 score for label 12: 0.0000\n",
      "Epoch: 0, F1 score for label 13: 0.0000\n",
      "Epoch: 0, F1 score for label 14: 0.0000\n",
      "Epoch: 0, F1 score for label 15: 0.0000\n",
      "Epoch: 0, F1 score for label 16: 0.0000\n",
      "Epoch: 0, F1 score for label 17: 0.0000\n",
      "Epoch: 1, Batch: 3, Training loss: 0.4142\n",
      "Epoch: 1, Batch: 6, Training loss: 0.4065\n",
      "Epoch: 1, Batch: 9, Training loss: 0.4468\n",
      "Epoch: 1, Batch: 12, Training loss: 0.3065\n",
      "Epoch: 1, Batch: 15, Training loss: 0.3085\n",
      "Epoch: 1, Batch: 18, Training loss: 0.6084\n",
      "Epoch: 1, Batch: 21, Training loss: 0.4815\n",
      "Epoch: 1, Batch: 24, Training loss: 0.4452\n",
      "Epoch: 1, Avg training loss: 0.4253 \n",
      "\n",
      "Epoch: 1, Batch: 1, Validation loss: 0.6110\n",
      "Epoch: 1, Batch: 2, Validation loss: 0.3648\n",
      "Epoch: 1, Batch: 3, Validation loss: 0.3994\n",
      "Epoch: 1, Batch: 4, Validation loss: 0.3359\n",
      "Epoch: 1, Batch: 5, Validation loss: 0.9189\n",
      "Epoch: 1, Avg validation loss: 0.5260\n",
      "Epoch: 1, Validation F1 score: 0.2241 \n",
      "\n",
      "Epoch: 1, F1 score for label 0: 0.0000\n",
      "Epoch: 1, F1 score for label 1: 0.6000\n",
      "Epoch: 1, F1 score for label 2: 0.0000\n",
      "Epoch: 1, F1 score for label 3: 0.0000\n",
      "Epoch: 1, F1 score for label 4: 0.0000\n",
      "Epoch: 1, F1 score for label 5: 0.0000\n",
      "Epoch: 1, F1 score for label 6: 0.2500\n",
      "Epoch: 1, F1 score for label 7: 0.0000\n",
      "Epoch: 1, F1 score for label 8: 0.2000\n",
      "Epoch: 1, F1 score for label 9: 0.5714\n",
      "Epoch: 1, F1 score for label 10: 0.3333\n",
      "Epoch: 1, F1 score for label 11: 0.0000\n",
      "Epoch: 1, F1 score for label 12: 0.0000\n",
      "Epoch: 1, F1 score for label 13: 0.0000\n",
      "Epoch: 1, F1 score for label 14: 0.0000\n",
      "Epoch: 1, F1 score for label 15: 0.0000\n",
      "Epoch: 1, F1 score for label 16: 0.0000\n",
      "Epoch: 1, F1 score for label 17: 0.0000\n",
      "Epoch: 2, Batch: 3, Training loss: 0.4272\n",
      "Epoch: 2, Batch: 6, Training loss: 0.4093\n",
      "Epoch: 2, Batch: 9, Training loss: 0.2623\n",
      "Epoch: 2, Batch: 12, Training loss: 0.3720\n",
      "Epoch: 2, Batch: 15, Training loss: 0.3672\n",
      "Epoch: 2, Batch: 18, Training loss: 0.3257\n",
      "Epoch: 2, Batch: 21, Training loss: 0.5568\n",
      "Epoch: 2, Batch: 24, Training loss: 0.4189\n",
      "Epoch: 2, Avg training loss: 0.4094 \n",
      "\n",
      "Epoch: 2, Batch: 1, Validation loss: 0.6441\n",
      "Epoch: 2, Batch: 2, Validation loss: 0.2469\n",
      "Epoch: 2, Batch: 3, Validation loss: 0.4324\n",
      "Epoch: 2, Batch: 4, Validation loss: 0.3266\n",
      "Epoch: 2, Batch: 5, Validation loss: 1.1982\n",
      "Epoch: 2, Avg validation loss: 0.5697\n",
      "Epoch: 2, Validation F1 score: 0.0227 \n",
      "\n",
      "Epoch: 2, F1 score for label 0: 0.0000\n",
      "Epoch: 2, F1 score for label 1: 0.0000\n",
      "Epoch: 2, F1 score for label 2: 0.0000\n",
      "Epoch: 2, F1 score for label 3: 0.0000\n",
      "Epoch: 2, F1 score for label 4: 0.0000\n",
      "Epoch: 2, F1 score for label 5: 0.0000\n",
      "Epoch: 2, F1 score for label 6: 0.0000\n",
      "Epoch: 2, F1 score for label 7: 0.0000\n",
      "Epoch: 2, F1 score for label 8: 0.0000\n",
      "Epoch: 2, F1 score for label 9: 0.0000\n",
      "Epoch: 2, F1 score for label 10: 0.1538\n",
      "Epoch: 2, F1 score for label 11: 0.0000\n",
      "Epoch: 2, F1 score for label 12: 0.0000\n",
      "Epoch: 2, F1 score for label 13: 0.0000\n",
      "Epoch: 2, F1 score for label 14: 0.0000\n",
      "Epoch: 2, F1 score for label 15: 0.0000\n",
      "Epoch: 2, F1 score for label 16: 0.0000\n",
      "Epoch: 2, F1 score for label 17: 0.0000\n",
      "Epoch: 3, Batch: 3, Training loss: 0.3141\n",
      "Epoch: 3, Batch: 6, Training loss: 0.3532\n",
      "Epoch: 3, Batch: 9, Training loss: 0.3867\n",
      "Epoch: 3, Batch: 12, Training loss: 0.4739\n",
      "Epoch: 3, Batch: 15, Training loss: 0.3006\n",
      "Epoch: 3, Batch: 18, Training loss: 0.4730\n",
      "Epoch: 3, Batch: 21, Training loss: 0.3458\n",
      "Epoch: 3, Batch: 24, Training loss: 0.3888\n",
      "Epoch: 3, Avg training loss: 0.4045 \n",
      "\n",
      "Epoch: 3, Batch: 1, Validation loss: 0.5766\n",
      "Epoch: 3, Batch: 2, Validation loss: 0.3116\n",
      "Epoch: 3, Batch: 3, Validation loss: 0.4270\n",
      "Epoch: 3, Batch: 4, Validation loss: 0.2970\n",
      "Epoch: 3, Batch: 5, Validation loss: 0.9671\n",
      "Epoch: 3, Avg validation loss: 0.5159\n",
      "Epoch: 3, Validation F1 score: 0.1429 \n",
      "\n",
      "Epoch: 3, F1 score for label 0: 0.0000\n",
      "Epoch: 3, F1 score for label 1: 0.0000\n",
      "Epoch: 3, F1 score for label 2: 0.0000\n",
      "Epoch: 3, F1 score for label 3: 0.0000\n",
      "Epoch: 3, F1 score for label 4: 0.0000\n",
      "Epoch: 3, F1 score for label 5: 0.0000\n",
      "Epoch: 3, F1 score for label 6: 0.0000\n",
      "Epoch: 3, F1 score for label 7: 0.0000\n",
      "Epoch: 3, F1 score for label 8: 0.0000\n",
      "Epoch: 3, F1 score for label 9: 0.4706\n",
      "Epoch: 3, F1 score for label 10: 0.3750\n",
      "Epoch: 3, F1 score for label 11: 0.0000\n",
      "Epoch: 3, F1 score for label 12: 0.0000\n",
      "Epoch: 3, F1 score for label 13: 0.0000\n",
      "Epoch: 3, F1 score for label 14: 0.0000\n",
      "Epoch: 3, F1 score for label 15: 0.0000\n",
      "Epoch: 3, F1 score for label 16: 0.0000\n",
      "Epoch: 3, F1 score for label 17: 0.0000\n",
      "Epoch: 4, Batch: 3, Training loss: 0.2900\n",
      "Epoch: 4, Batch: 6, Training loss: 0.5498\n",
      "Epoch: 4, Batch: 9, Training loss: 0.1993\n",
      "Epoch: 4, Batch: 12, Training loss: 0.5063\n",
      "Epoch: 4, Batch: 15, Training loss: 0.3122\n",
      "Epoch: 4, Batch: 18, Training loss: 0.4490\n",
      "Epoch: 4, Batch: 21, Training loss: 0.3862\n",
      "Epoch: 4, Batch: 24, Training loss: 0.4482\n",
      "Epoch: 4, Avg training loss: 0.4135 \n",
      "\n",
      "Epoch: 4, Batch: 1, Validation loss: 1.2786\n",
      "Epoch: 4, Batch: 2, Validation loss: 0.6147\n",
      "Epoch: 4, Batch: 3, Validation loss: 0.7945\n",
      "Epoch: 4, Batch: 4, Validation loss: 0.7868\n",
      "Epoch: 4, Batch: 5, Validation loss: 2.9214\n",
      "Epoch: 4, Avg validation loss: 1.2792\n",
      "Epoch: 4, Validation F1 score: 0.0233 \n",
      "\n",
      "Epoch: 4, F1 score for label 0: 0.0000\n",
      "Epoch: 4, F1 score for label 1: 0.0000\n",
      "Epoch: 4, F1 score for label 2: 0.0000\n",
      "Epoch: 4, F1 score for label 3: 0.0000\n",
      "Epoch: 4, F1 score for label 4: 0.0000\n",
      "Epoch: 4, F1 score for label 5: 0.0000\n",
      "Epoch: 4, F1 score for label 6: 0.0000\n",
      "Epoch: 4, F1 score for label 7: 0.0000\n",
      "Epoch: 4, F1 score for label 8: 0.0000\n",
      "Epoch: 4, F1 score for label 9: 0.0000\n",
      "Epoch: 4, F1 score for label 10: 0.1818\n",
      "Epoch: 4, F1 score for label 11: 0.0000\n",
      "Epoch: 4, F1 score for label 12: 0.0000\n",
      "Epoch: 4, F1 score for label 13: 0.0000\n",
      "Epoch: 4, F1 score for label 14: 0.0000\n",
      "Epoch: 4, F1 score for label 15: 0.0000\n",
      "Epoch: 4, F1 score for label 16: 0.0000\n",
      "Epoch: 4, F1 score for label 17: 0.0000\n",
      "Epoch: 5, Batch: 3, Training loss: 0.5105\n",
      "Epoch: 5, Batch: 6, Training loss: 0.2760\n",
      "Epoch: 5, Batch: 9, Training loss: 0.3915\n",
      "Epoch: 5, Batch: 12, Training loss: 0.4404\n",
      "Epoch: 5, Batch: 15, Training loss: 0.5117\n",
      "Epoch: 5, Batch: 18, Training loss: 0.3804\n",
      "Epoch: 5, Batch: 21, Training loss: 0.2456\n",
      "Epoch: 5, Batch: 24, Training loss: 0.4338\n",
      "Epoch: 5, Avg training loss: 0.4051 \n",
      "\n",
      "Epoch: 5, Batch: 1, Validation loss: 0.6290\n",
      "Epoch: 5, Batch: 2, Validation loss: 0.2533\n",
      "Epoch: 5, Batch: 3, Validation loss: 0.3711\n",
      "Epoch: 5, Batch: 4, Validation loss: 0.3028\n",
      "Epoch: 5, Batch: 5, Validation loss: 1.1209\n",
      "Epoch: 5, Avg validation loss: 0.5354\n",
      "Epoch: 5, Validation F1 score: 0.0460 \n",
      "\n",
      "Epoch: 5, F1 score for label 0: 0.0000\n",
      "Epoch: 5, F1 score for label 1: 0.0000\n",
      "Epoch: 5, F1 score for label 2: 0.0000\n",
      "Epoch: 5, F1 score for label 3: 0.0000\n",
      "Epoch: 5, F1 score for label 4: 0.0000\n",
      "Epoch: 5, F1 score for label 5: 0.0000\n",
      "Epoch: 5, F1 score for label 6: 0.0000\n",
      "Epoch: 5, F1 score for label 7: 0.0000\n",
      "Epoch: 5, F1 score for label 8: 0.0000\n",
      "Epoch: 5, F1 score for label 9: 0.0000\n",
      "Epoch: 5, F1 score for label 10: 0.3333\n",
      "Epoch: 5, F1 score for label 11: 0.0000\n",
      "Epoch: 5, F1 score for label 12: 0.0000\n",
      "Epoch: 5, F1 score for label 13: 0.0000\n",
      "Epoch: 5, F1 score for label 14: 0.0000\n",
      "Epoch: 5, F1 score for label 15: 0.0000\n",
      "Epoch: 5, F1 score for label 16: 0.0000\n",
      "Epoch: 5, F1 score for label 17: 0.0000\n",
      "Epoch: 6, Batch: 3, Training loss: 0.3746\n",
      "Epoch: 6, Batch: 6, Training loss: 0.5177\n",
      "Epoch: 6, Batch: 9, Training loss: 0.5106\n",
      "Epoch: 6, Batch: 12, Training loss: 0.2604\n",
      "Epoch: 6, Batch: 15, Training loss: 0.2966\n",
      "Epoch: 6, Batch: 18, Training loss: 0.3468\n",
      "Epoch: 6, Batch: 21, Training loss: 0.4540\n",
      "Epoch: 6, Batch: 24, Training loss: 0.2680\n",
      "Epoch: 6, Avg training loss: 0.3969 \n",
      "\n",
      "Epoch: 6, Batch: 1, Validation loss: 0.5966\n",
      "Epoch: 6, Batch: 2, Validation loss: 0.2696\n",
      "Epoch: 6, Batch: 3, Validation loss: 0.3676\n",
      "Epoch: 6, Batch: 4, Validation loss: 0.2806\n",
      "Epoch: 6, Batch: 5, Validation loss: 1.1249\n",
      "Epoch: 6, Avg validation loss: 0.5279\n",
      "Epoch: 6, Validation F1 score: 0.0909 \n",
      "\n",
      "Epoch: 6, F1 score for label 0: 0.0000\n",
      "Epoch: 6, F1 score for label 1: 0.0000\n",
      "Epoch: 6, F1 score for label 2: 0.0000\n",
      "Epoch: 6, F1 score for label 3: 0.0000\n",
      "Epoch: 6, F1 score for label 4: 0.0000\n",
      "Epoch: 6, F1 score for label 5: 0.0000\n",
      "Epoch: 6, F1 score for label 6: 0.0000\n",
      "Epoch: 6, F1 score for label 7: 0.0000\n",
      "Epoch: 6, F1 score for label 8: 0.0000\n",
      "Epoch: 6, F1 score for label 9: 0.5714\n",
      "Epoch: 6, F1 score for label 10: 0.0000\n",
      "Epoch: 6, F1 score for label 11: 0.0000\n",
      "Epoch: 6, F1 score for label 12: 0.0000\n",
      "Epoch: 6, F1 score for label 13: 0.0000\n",
      "Epoch: 6, F1 score for label 14: 0.0000\n",
      "Epoch: 6, F1 score for label 15: 0.0000\n",
      "Epoch: 6, F1 score for label 16: 0.0000\n",
      "Epoch: 6, F1 score for label 17: 0.0000\n",
      "Epoch: 7, Batch: 3, Training loss: 0.3749\n",
      "Epoch: 7, Batch: 6, Training loss: 0.3841\n",
      "Epoch: 7, Batch: 9, Training loss: 0.4939\n",
      "Epoch: 7, Batch: 12, Training loss: 0.5322\n",
      "Epoch: 7, Batch: 15, Training loss: 0.4564\n",
      "Epoch: 7, Batch: 18, Training loss: 0.3497\n",
      "Epoch: 7, Batch: 21, Training loss: 0.5420\n",
      "Epoch: 7, Batch: 24, Training loss: 0.4083\n",
      "Epoch: 7, Avg training loss: 0.3932 \n",
      "\n",
      "Epoch: 7, Batch: 1, Validation loss: 0.5749\n",
      "Epoch: 7, Batch: 2, Validation loss: 0.3040\n",
      "Epoch: 7, Batch: 3, Validation loss: 0.3970\n",
      "Epoch: 7, Batch: 4, Validation loss: 0.3239\n",
      "Epoch: 7, Batch: 5, Validation loss: 0.9116\n",
      "Epoch: 7, Avg validation loss: 0.5023\n",
      "Epoch: 7, Validation F1 score: 0.2115 \n",
      "\n",
      "Epoch: 7, F1 score for label 0: 0.0000\n",
      "Epoch: 7, F1 score for label 1: 0.0000\n",
      "Epoch: 7, F1 score for label 2: 0.0000\n",
      "Epoch: 7, F1 score for label 3: 0.0000\n",
      "Epoch: 7, F1 score for label 4: 0.0000\n",
      "Epoch: 7, F1 score for label 5: 0.0000\n",
      "Epoch: 7, F1 score for label 6: 0.0000\n",
      "Epoch: 7, F1 score for label 7: 0.0000\n",
      "Epoch: 7, F1 score for label 8: 0.0000\n",
      "Epoch: 7, F1 score for label 9: 0.6923\n",
      "Epoch: 7, F1 score for label 10: 0.0000\n",
      "Epoch: 7, F1 score for label 11: 0.3636\n",
      "Epoch: 7, F1 score for label 12: 0.0000\n",
      "Epoch: 7, F1 score for label 13: 0.0000\n",
      "Epoch: 7, F1 score for label 14: 0.0000\n",
      "Epoch: 7, F1 score for label 15: 0.0000\n",
      "Epoch: 7, F1 score for label 16: 0.0000\n",
      "Epoch: 7, F1 score for label 17: 0.0000\n",
      "Epoch: 8, Batch: 3, Training loss: 0.3654\n",
      "Epoch: 8, Batch: 6, Training loss: 0.4201\n",
      "Epoch: 8, Batch: 9, Training loss: 0.3220\n",
      "Epoch: 8, Batch: 12, Training loss: 0.2464\n",
      "Epoch: 8, Batch: 15, Training loss: 0.2728\n",
      "Epoch: 8, Batch: 18, Training loss: 0.3264\n",
      "Epoch: 8, Batch: 21, Training loss: 0.4503\n",
      "Epoch: 8, Batch: 24, Training loss: 0.2641\n",
      "Epoch: 8, Avg training loss: 0.3796 \n",
      "\n",
      "Epoch: 8, Batch: 1, Validation loss: 0.6796\n",
      "Epoch: 8, Batch: 2, Validation loss: 0.2737\n",
      "Epoch: 8, Batch: 3, Validation loss: 0.3856\n",
      "Epoch: 8, Batch: 4, Validation loss: 0.2875\n",
      "Epoch: 8, Batch: 5, Validation loss: 1.3827\n",
      "Epoch: 8, Avg validation loss: 0.6018\n",
      "Epoch: 8, Validation F1 score: 0.0465 \n",
      "\n",
      "Epoch: 8, F1 score for label 0: 0.0000\n",
      "Epoch: 8, F1 score for label 1: 0.0000\n",
      "Epoch: 8, F1 score for label 2: 0.0000\n",
      "Epoch: 8, F1 score for label 3: 0.0000\n",
      "Epoch: 8, F1 score for label 4: 0.0000\n",
      "Epoch: 8, F1 score for label 5: 0.0000\n",
      "Epoch: 8, F1 score for label 6: 0.0000\n",
      "Epoch: 8, F1 score for label 7: 0.0000\n",
      "Epoch: 8, F1 score for label 8: 0.0000\n",
      "Epoch: 8, F1 score for label 9: 0.3333\n",
      "Epoch: 8, F1 score for label 10: 0.0000\n",
      "Epoch: 8, F1 score for label 11: 0.0000\n",
      "Epoch: 8, F1 score for label 12: 0.0000\n",
      "Epoch: 8, F1 score for label 13: 0.0000\n",
      "Epoch: 8, F1 score for label 14: 0.0000\n",
      "Epoch: 8, F1 score for label 15: 0.0000\n",
      "Epoch: 8, F1 score for label 16: 0.0000\n",
      "Epoch: 8, F1 score for label 17: 0.0000\n",
      "Epoch: 9, Batch: 3, Training loss: 0.3957\n",
      "Epoch: 9, Batch: 6, Training loss: 0.3566\n",
      "Epoch: 9, Batch: 9, Training loss: 0.4164\n",
      "Epoch: 9, Batch: 12, Training loss: 0.5000\n",
      "Epoch: 9, Batch: 15, Training loss: 0.3129\n",
      "Epoch: 9, Batch: 18, Training loss: 0.3129\n",
      "Epoch: 9, Batch: 21, Training loss: 0.8069\n",
      "Epoch: 9, Batch: 24, Training loss: 0.6222\n",
      "Epoch: 9, Avg training loss: 0.4014 \n",
      "\n",
      "Epoch: 9, Batch: 1, Validation loss: 0.6139\n",
      "Epoch: 9, Batch: 2, Validation loss: 0.3071\n",
      "Epoch: 9, Batch: 3, Validation loss: 0.3882\n",
      "Epoch: 9, Batch: 4, Validation loss: 0.3293\n",
      "Epoch: 9, Batch: 5, Validation loss: 1.2442\n",
      "Epoch: 9, Avg validation loss: 0.5766\n",
      "Epoch: 9, Validation F1 score: 0.0000 \n",
      "\n",
      "Epoch: 9, F1 score for label 0: 0.0000\n",
      "Epoch: 9, F1 score for label 1: 0.0000\n",
      "Epoch: 9, F1 score for label 2: 0.0000\n",
      "Epoch: 9, F1 score for label 3: 0.0000\n",
      "Epoch: 9, F1 score for label 4: 0.0000\n",
      "Epoch: 9, F1 score for label 5: 0.0000\n",
      "Epoch: 9, F1 score for label 6: 0.0000\n",
      "Epoch: 9, F1 score for label 7: 0.0000\n",
      "Epoch: 9, F1 score for label 8: 0.0000\n",
      "Epoch: 9, F1 score for label 9: 0.0000\n",
      "Epoch: 9, F1 score for label 10: 0.0000\n",
      "Epoch: 9, F1 score for label 11: 0.0000\n",
      "Epoch: 9, F1 score for label 12: 0.0000\n",
      "Epoch: 9, F1 score for label 13: 0.0000\n",
      "Epoch: 9, F1 score for label 14: 0.0000\n",
      "Epoch: 9, F1 score for label 15: 0.0000\n",
      "Epoch: 9, F1 score for label 16: 0.0000\n",
      "Epoch: 9, F1 score for label 17: 0.0000\n",
      "Epoch: 10, Batch: 3, Training loss: 0.2562\n",
      "Epoch: 10, Batch: 6, Training loss: 0.4229\n",
      "Epoch: 10, Batch: 9, Training loss: 0.3046\n",
      "Epoch: 10, Batch: 12, Training loss: 0.3721\n",
      "Epoch: 10, Batch: 15, Training loss: 0.3075\n",
      "Epoch: 10, Batch: 18, Training loss: 0.3058\n",
      "Epoch: 10, Batch: 21, Training loss: 0.3426\n",
      "Epoch: 10, Batch: 24, Training loss: 0.4782\n",
      "Epoch: 10, Avg training loss: 0.3896 \n",
      "\n",
      "Epoch: 10, Batch: 1, Validation loss: 0.5579\n",
      "Epoch: 10, Batch: 2, Validation loss: 0.2694\n",
      "Epoch: 10, Batch: 3, Validation loss: 0.3990\n",
      "Epoch: 10, Batch: 4, Validation loss: 0.2942\n",
      "Epoch: 10, Batch: 5, Validation loss: 1.0409\n",
      "Epoch: 10, Avg validation loss: 0.5123\n",
      "Epoch: 10, Validation F1 score: 0.1837 \n",
      "\n",
      "Epoch: 10, F1 score for label 0: 0.0000\n",
      "Epoch: 10, F1 score for label 1: 0.0000\n",
      "Epoch: 10, F1 score for label 2: 0.0000\n",
      "Epoch: 10, F1 score for label 3: 0.0000\n",
      "Epoch: 10, F1 score for label 4: 0.0000\n",
      "Epoch: 10, F1 score for label 5: 0.0000\n",
      "Epoch: 10, F1 score for label 6: 0.0000\n",
      "Epoch: 10, F1 score for label 7: 0.0000\n",
      "Epoch: 10, F1 score for label 8: 0.5714\n",
      "Epoch: 10, F1 score for label 9: 0.5882\n",
      "Epoch: 10, F1 score for label 10: 0.3333\n",
      "Epoch: 10, F1 score for label 11: 0.0000\n",
      "Epoch: 10, F1 score for label 12: 0.0000\n",
      "Epoch: 10, F1 score for label 13: 0.0000\n",
      "Epoch: 10, F1 score for label 14: 0.0000\n",
      "Epoch: 10, F1 score for label 15: 0.0000\n",
      "Epoch: 10, F1 score for label 16: 0.0000\n",
      "Epoch: 10, F1 score for label 17: 0.0000\n",
      "Epoch: 11, Batch: 3, Training loss: 0.2865\n",
      "Epoch: 11, Batch: 6, Training loss: 0.4097\n",
      "Epoch: 11, Batch: 9, Training loss: 0.5252\n",
      "Epoch: 11, Batch: 12, Training loss: 0.3670\n",
      "Epoch: 11, Batch: 15, Training loss: 0.3325\n",
      "Epoch: 11, Batch: 18, Training loss: 0.3032\n",
      "Epoch: 11, Batch: 21, Training loss: 0.3073\n",
      "Epoch: 11, Batch: 24, Training loss: 0.3410\n",
      "Epoch: 11, Avg training loss: 0.3966 \n",
      "\n",
      "Epoch: 11, Batch: 1, Validation loss: 0.6167\n",
      "Epoch: 11, Batch: 2, Validation loss: 0.2920\n",
      "Epoch: 11, Batch: 3, Validation loss: 0.3933\n",
      "Epoch: 11, Batch: 4, Validation loss: 0.2792\n",
      "Epoch: 11, Batch: 5, Validation loss: 0.9724\n",
      "Epoch: 11, Avg validation loss: 0.5107\n",
      "Epoch: 11, Validation F1 score: 0.0889 \n",
      "\n",
      "Epoch: 11, F1 score for label 0: 0.0000\n",
      "Epoch: 11, F1 score for label 1: 0.0000\n",
      "Epoch: 11, F1 score for label 2: 0.0000\n",
      "Epoch: 11, F1 score for label 3: 0.0000\n",
      "Epoch: 11, F1 score for label 4: 0.0000\n",
      "Epoch: 11, F1 score for label 5: 0.0000\n",
      "Epoch: 11, F1 score for label 6: 0.0000\n",
      "Epoch: 11, F1 score for label 7: 0.0000\n",
      "Epoch: 11, F1 score for label 8: 0.0000\n",
      "Epoch: 11, F1 score for label 9: 0.5333\n",
      "Epoch: 11, F1 score for label 10: 0.0000\n",
      "Epoch: 11, F1 score for label 11: 0.0000\n",
      "Epoch: 11, F1 score for label 12: 0.0000\n",
      "Epoch: 11, F1 score for label 13: 0.0000\n",
      "Epoch: 11, F1 score for label 14: 0.0000\n",
      "Epoch: 11, F1 score for label 15: 0.0000\n",
      "Epoch: 11, F1 score for label 16: 0.0000\n",
      "Epoch: 11, F1 score for label 17: 0.0000\n",
      "Early stopping triggered at epoch 11\n"
     ]
    }
   ],
   "source": [
    "from sklearn.metrics import f1_score\n",
    "\n",
    "num_epochs = 50\n",
    "\n",
    "training_loss_epoch = []\n",
    "valid_loss_epoch = []\n",
    "\n",
    "valid_f1_epoch = []\n",
    "\n",
    "per_label_f1_epochs = []\n",
    "\n",
    "for i in range(num_epochs):\n",
    "\n",
    "  train_loss = 0.0\n",
    "  valid_loss = 0.0\n",
    "\n",
    "  model.train()\n",
    "\n",
    "  # training loop:\n",
    "  for b,(X_train, y_train) in enumerate(train_loader):\n",
    "\n",
    "      X_train, y_train = X_train.to(device), y_train.to(device)\n",
    "\n",
    "      # increment batch number\n",
    "      b += 1\n",
    "\n",
    "      y_pred = model(X_train)\n",
    "\n",
    "      loss = criterion(y_pred, y_train)\n",
    "\n",
    "      #back prop\n",
    "      optimizer.zero_grad()\n",
    "      loss.backward()\n",
    "      optimizer.step()\n",
    "\n",
    "      # add train loss\n",
    "      train_loss += loss.item()\n",
    "\n",
    "      #print loss every 3 batches\n",
    "      if b%3 == 0:\n",
    "        print(f'Epoch: {i}, Batch: {b}, Training loss: {loss.item():.4f}')\n",
    "\n",
    "  #track avg training loss per epoch\n",
    "  avg_train_loss = train_loss/len(train_loader)\n",
    "  training_loss_epoch.append(avg_train_loss)\n",
    "\n",
    "  print(f\"Epoch: {i}, Avg training loss: {training_loss_epoch[i]:.4f} \\n\")\n",
    "\n",
    "  #for f1 score per epoch\n",
    "  all_valid_labels = []\n",
    "  all_valid_preds = []\n",
    "\n",
    "  model.eval()\n",
    "\n",
    "  #validation loop\n",
    "  with torch.no_grad():\n",
    "    for b,(X_valid, y_valid) in enumerate(valid_loader):\n",
    "      X_valid, y_valid = X_valid.to(device), y_valid.to(device)\n",
    "\n",
    "      b += 1\n",
    "      y_eval = model(X_valid)\n",
    "\n",
    "      loss = criterion(y_eval, y_valid)\n",
    "\n",
    "      valid_loss += loss.item()\n",
    "\n",
    "      #get validation predictions\n",
    "      pred_prob = torch.sigmoid(y_eval)\n",
    "      pred_labels = (pred_prob > 0.5).float()\n",
    "\n",
    "      #for f1 score\n",
    "      all_valid_labels.append(y_valid.cpu())\n",
    "      all_valid_preds.append(pred_labels.cpu())\n",
    "\n",
    "      if b%1 == 0:\n",
    "        print(f'Epoch: {i}, Batch: {b}, Validation loss: {loss.item():.4f}')\n",
    "\n",
    "  #tracking avg val loss per epoch\n",
    "  avg_valid_loss = valid_loss/len(valid_loader)\n",
    "  valid_loss_epoch.append(avg_valid_loss)\n",
    "\n",
    "  #concatenating tensors for predictions and labels\n",
    "  all_valid_labels = torch.cat(all_valid_labels, dim = 0).numpy()\n",
    "  all_valid_preds = torch.cat(all_valid_preds, dim = 0).numpy()\n",
    "\n",
    "  #micro f1 score per epoch\n",
    "  valid_f1 = f1_score(all_valid_labels, all_valid_preds, average = 'micro')\n",
    "  valid_f1_epoch.append(valid_f1)\n",
    "\n",
    "  #print f1 score and avg loss for validation per epoch\n",
    "  print(f\"Epoch: {i}, Avg validation loss: {valid_loss_epoch[i]:.4f}\")\n",
    "  print(f\"Epoch: {i}, Validation F1 score: {valid_f1:.4f} \\n\")\n",
    "\n",
    "  #per label f1 per epoch tracking\n",
    "  per_label_f1 = f1_score(all_valid_labels, all_valid_preds, average = None)\n",
    "  per_label_f1_epochs.append(per_label_f1)\n",
    "\n",
    "  for j, f1 in enumerate(per_label_f1):\n",
    "    print(f\"Epoch: {i}, F1 score for label {j}: {f1:.4f}\")\n",
    "\n",
    "  early_stop.check_early_stop(avg_valid_loss)\n",
    "\n",
    "  if (early_stop.stop_training == True):\n",
    "    print(f\"Early stopping triggered at epoch {i}\")\n",
    "    break\n",
    "\n"
   ]
  },
  {
   "cell_type": "code",
   "execution_count": null,
   "metadata": {},
   "outputs": [
    {
     "data": {
      "text/plain": [
       "<matplotlib.legend.Legend at 0x78ce3d962330>"
      ]
     },
     "execution_count": 68,
     "metadata": {},
     "output_type": "execute_result"
    },
    {
     "data": {
      "image/png": "[encoded data removed]",
      "text/plain": [
       "<Figure size 640x480 with 1 Axes>"
      ]
     },
     "metadata": {},
     "output_type": "display_data"
    }
   ],
   "source": [
    "\n",
    "\n",
    "import matplotlib.pyplot as plt\n",
    "\n",
    "training_loss_epoch = [tl.item() if isinstance(tl, torch.Tensor) else tl for tl in training_loss_epoch]\n",
    "testing_loss_epoch = [ts.cpu().item() if isinstance(ts, torch.Tensor) else ts for ts in valid_loss_epoch]\n",
    "plt.plot(training_loss_epoch, label = \"Training losses\")\n",
    "plt.plot(testing_loss_epoch, label = 'Validation losses')\n",
    "plt.title(\"Loss at epoch\")\n",
    "plt.legend()\n"
   ]
  },
  {
   "cell_type": "code",
   "execution_count": null,
   "metadata": {},
   "outputs": [
    {
     "data": {
      "image/png": "[encoded data removed]",
      "text/plain": [
       "<Figure size 640x480 with 1 Axes>"
      ]
     },
     "metadata": {},
     "output_type": "display_data"
    }
   ],
   "source": [
    "f1_score_graph = [tl.item() if isinstance(tl, torch.Tensor) else tl for tl in valid_f1_epoch]\n",
    "plt.plot(valid_f1_epoch, label = \"Testing F1 score\")\n",
    "plt.title(\"F1 score per epoch\")\n",
    "plt.legend()\n",
    "plt.xlabel(\"Epoch\")\n",
    "plt.ylabel(\"Validation F1 Score\")\n",
    "plt.grid(True)\n",
    "plt.show()"
   ]
  },
  {
   "cell_type": "code",
   "execution_count": null,
   "metadata": {},
   "outputs": [
    {
     "name": "stdout",
     "output_type": "stream",
     "text": [
      "[0.         0.         0.         0.         0.         0.\n",
      " 0.         0.         0.         0.53333333 0.         0.\n",
      " 0.         0.         0.         0.         0.         0.        ]\n"
     ]
    }
   ],
   "source": [
    "\n",
    "  print(per_label_f1_epochs[11])"
   ]
  }
 ],
 "metadata": {
  "language_info": {
   "name": "python"
  }
 },
 "nbformat": 4,
 "nbformat_minor": 0
}
